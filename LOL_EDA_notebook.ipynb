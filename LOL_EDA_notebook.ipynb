{
  "nbformat": 4,
  "nbformat_minor": 0,
  "metadata": {
    "colab": {
      "name": "LOL_EDA_notebook",
      "provenance": [],
      "collapsed_sections": [],
      "include_colab_link": true
    },
    "kernelspec": {
      "name": "python3",
      "display_name": "Python 3"
    },
    "language_info": {
      "name": "python"
    }
  },
  "cells": [
    {
      "cell_type": "markdown",
      "metadata": {
        "id": "view-in-github",
        "colab_type": "text"
      },
      "source": [
        "<a href=\"https://colab.research.google.com/github/arpitawad04/League-Of-Legends-Pre-Match-Winner-Prediction-And-Recommendation-of-Champion-Using-Python/blob/main/LOL_EDA_notebook.ipynb\" target=\"_parent\"><img src=\"https://colab.research.google.com/assets/colab-badge.svg\" alt=\"Open In Colab\"/></a>"
      ]
    },
    {
      "cell_type": "markdown",
      "source": [
        "**Importing Modules**"
      ],
      "metadata": {
        "id": "PbJ3v8OyJWj9"
      }
    },
    {
      "cell_type": "code",
      "source": [
        "import pandas as pd\n",
        "import numpy as np\n",
        "import seaborn as sns\n",
        "import matplotlib.pyplot as plt\n",
        "import warnings\n",
        "%matplotlib inline\n",
        "warnings.filterwarnings('ignore')\n"
      ],
      "metadata": {
        "id": "QyK_vPogUS-9"
      },
      "execution_count": null,
      "outputs": []
    },
    {
      "cell_type": "markdown",
      "source": [
        "**Loading the Dataset**"
      ],
      "metadata": {
        "id": "Q9-KKuUZHpaM"
      }
    },
    {
      "cell_type": "code",
      "source": [
        "df=pd.read_csv(\"/content/LOL_transformed_dataset_extended_withadded_attributes.csv\")"
      ],
      "metadata": {
        "id": "PHY-MteNUatr"
      },
      "execution_count": null,
      "outputs": []
    },
    {
      "cell_type": "code",
      "source": [
        "df.head()"
      ],
      "metadata": {
        "colab": {
          "base_uri": "https://localhost:8080/",
          "height": 351
        },
        "id": "_VPTBRvgV44n",
        "outputId": "54440474-89ee-4151-f48a-cb169c7bcd32"
      },
      "execution_count": null,
      "outputs": [
        {
          "output_type": "execute_result",
          "data": {
            "text/html": [
              "\n",
              "  <div id=\"df-c12066ad-76f7-46d2-bbcb-1bd8784c46c6\">\n",
              "    <div class=\"colab-df-container\">\n",
              "      <div>\n",
              "<style scoped>\n",
              "    .dataframe tbody tr th:only-of-type {\n",
              "        vertical-align: middle;\n",
              "    }\n",
              "\n",
              "    .dataframe tbody tr th {\n",
              "        vertical-align: top;\n",
              "    }\n",
              "\n",
              "    .dataframe thead th {\n",
              "        text-align: right;\n",
              "    }\n",
              "</style>\n",
              "<table border=\"1\" class=\"dataframe\">\n",
              "  <thead>\n",
              "    <tr style=\"text-align: right;\">\n",
              "      <th></th>\n",
              "      <th>Gameid</th>\n",
              "      <th>Blue_Team_id</th>\n",
              "      <th>bluetop_playerid</th>\n",
              "      <th>bluetop_player_name</th>\n",
              "      <th>bluetop_champion</th>\n",
              "      <th>bluetop_Game_played</th>\n",
              "      <th>bluetop_champ_win_rate</th>\n",
              "      <th>bluetop_KDA</th>\n",
              "      <th>bluetop_dmg_to_cham</th>\n",
              "      <th>bluetop_goldearned</th>\n",
              "      <th>bluetop_monsterkillsownjungle</th>\n",
              "      <th>bluetop_monsterkillsenemyjungle</th>\n",
              "      <th>bluetop_goldat10</th>\n",
              "      <th>bluejng_playerid</th>\n",
              "      <th>bluejng_playername</th>\n",
              "      <th>bluejng_champion</th>\n",
              "      <th>bluejng_Game_played</th>\n",
              "      <th>bluejng_champ_win_rate</th>\n",
              "      <th>bluejng_KDA</th>\n",
              "      <th>bluejng_dmg_to_cham</th>\n",
              "      <th>bluejng_goldearned</th>\n",
              "      <th>bluejng_monsterkillsownjungle</th>\n",
              "      <th>bluejng_monsterkillsenemyjungle</th>\n",
              "      <th>bluejng_goldat10</th>\n",
              "      <th>bluemid_playerid</th>\n",
              "      <th>bluemid_playername</th>\n",
              "      <th>bluemid_champion</th>\n",
              "      <th>bluemid_Game_played</th>\n",
              "      <th>bluemid_champ_win_rate</th>\n",
              "      <th>bluemid_KDA</th>\n",
              "      <th>bluemid_dmg_to_cham</th>\n",
              "      <th>bluemid_goldearned</th>\n",
              "      <th>bluemid_monsterkillsownjungle</th>\n",
              "      <th>bluemid_monsterkillsenemyjungle</th>\n",
              "      <th>bluemid_goldat10</th>\n",
              "      <th>bluebot_playerid</th>\n",
              "      <th>bluebot_playername</th>\n",
              "      <th>bluebot_champion</th>\n",
              "      <th>bluebot_Game_played</th>\n",
              "      <th>bluebot_champ_win_rate</th>\n",
              "      <th>...</th>\n",
              "      <th>redmid_dmg_to_cham</th>\n",
              "      <th>redmid_goldearned</th>\n",
              "      <th>redmid_monsterkillsownjungle</th>\n",
              "      <th>redmid_monsterkillsenemyjungle</th>\n",
              "      <th>redmid_goldat10</th>\n",
              "      <th>redbot_playerid</th>\n",
              "      <th>redbot_playername</th>\n",
              "      <th>redbot_champion</th>\n",
              "      <th>redbot_Game_played</th>\n",
              "      <th>redbot_champ_win_rate</th>\n",
              "      <th>redbot_KDA</th>\n",
              "      <th>redbot_dmg_to_cham</th>\n",
              "      <th>redbot_goldearned</th>\n",
              "      <th>redbot_monsterkillsownjungle</th>\n",
              "      <th>redbot_monsterkillsenemyjungle</th>\n",
              "      <th>redbot_goldat10</th>\n",
              "      <th>redsup_playerid</th>\n",
              "      <th>redsup_playername</th>\n",
              "      <th>redsup_champion</th>\n",
              "      <th>redsup_Game_played</th>\n",
              "      <th>redsup_champ_win_rate</th>\n",
              "      <th>redsup_KDA</th>\n",
              "      <th>redsup_dmg_to_cham</th>\n",
              "      <th>redsup_goldearned</th>\n",
              "      <th>redsup_monsterkillsownjungle</th>\n",
              "      <th>redsup_monsterkillsenemyjungle</th>\n",
              "      <th>redsup_goldat10</th>\n",
              "      <th>Red_team_kills</th>\n",
              "      <th>Red_team_deaths</th>\n",
              "      <th>blue_ban1</th>\n",
              "      <th>blue_ban2</th>\n",
              "      <th>blue_ban3</th>\n",
              "      <th>blue_ban4</th>\n",
              "      <th>blue_ban5</th>\n",
              "      <th>red_ban1</th>\n",
              "      <th>red_ban2</th>\n",
              "      <th>red_ban3</th>\n",
              "      <th>red_ban4</th>\n",
              "      <th>red_ban5</th>\n",
              "      <th>Results</th>\n",
              "    </tr>\n",
              "  </thead>\n",
              "  <tbody>\n",
              "    <tr>\n",
              "      <th>0</th>\n",
              "      <td>ESPORTSTMNT03/1632489</td>\n",
              "      <td>DWG KIA</td>\n",
              "      <td>oe:player:b9972f46c1e52797d66236b118d2970</td>\n",
              "      <td>Khan</td>\n",
              "      <td>Mordekaiser</td>\n",
              "      <td>1</td>\n",
              "      <td>1.000</td>\n",
              "      <td>10.000000</td>\n",
              "      <td>20435</td>\n",
              "      <td>12065</td>\n",
              "      <td>8</td>\n",
              "      <td>5</td>\n",
              "      <td>3421</td>\n",
              "      <td>oe:player:92544d7a994bd6841cccd9f6e42e3de</td>\n",
              "      <td>Canyon</td>\n",
              "      <td>Graves</td>\n",
              "      <td>5</td>\n",
              "      <td>1.0</td>\n",
              "      <td>12.000000</td>\n",
              "      <td>13944</td>\n",
              "      <td>13944</td>\n",
              "      <td>110</td>\n",
              "      <td>43</td>\n",
              "      <td>3497</td>\n",
              "      <td>oe:player:5f8ff49cd56eae61d635966b183a451</td>\n",
              "      <td>ShowMaker</td>\n",
              "      <td>Zoe</td>\n",
              "      <td>9</td>\n",
              "      <td>0.888889</td>\n",
              "      <td>14.00</td>\n",
              "      <td>16039</td>\n",
              "      <td>14274</td>\n",
              "      <td>17</td>\n",
              "      <td>24</td>\n",
              "      <td>3784</td>\n",
              "      <td>oe:player:78081d0b3c01f1f295d52d53744261a</td>\n",
              "      <td>Ghost</td>\n",
              "      <td>Miss Fortune</td>\n",
              "      <td>1</td>\n",
              "      <td>1.000000</td>\n",
              "      <td>...</td>\n",
              "      <td>5502</td>\n",
              "      <td>11465</td>\n",
              "      <td>0</td>\n",
              "      <td>0</td>\n",
              "      <td>3301</td>\n",
              "      <td>oe:player:18bdb3898e7fecb3bb0be7ff075d509</td>\n",
              "      <td>deokdam</td>\n",
              "      <td>Ezreal</td>\n",
              "      <td>5</td>\n",
              "      <td>0.8</td>\n",
              "      <td>0.4</td>\n",
              "      <td>13126</td>\n",
              "      <td>9815</td>\n",
              "      <td>5</td>\n",
              "      <td>0</td>\n",
              "      <td>3020</td>\n",
              "      <td>oe:player:b0ec3df39d61f953e7af0afd8eb8c4a</td>\n",
              "      <td>Kellin</td>\n",
              "      <td>Leona</td>\n",
              "      <td>10</td>\n",
              "      <td>0.500000</td>\n",
              "      <td>0.4</td>\n",
              "      <td>2349</td>\n",
              "      <td>5921</td>\n",
              "      <td>0</td>\n",
              "      <td>0</td>\n",
              "      <td>2137</td>\n",
              "      <td>4</td>\n",
              "      <td>24</td>\n",
              "      <td>Aatrox</td>\n",
              "      <td>Kai'Sa</td>\n",
              "      <td>Pantheon</td>\n",
              "      <td>Aphelios</td>\n",
              "      <td>Lucian</td>\n",
              "      <td>Akali</td>\n",
              "      <td>Samira</td>\n",
              "      <td>Taliyah</td>\n",
              "      <td>Gragas</td>\n",
              "      <td>Maokai</td>\n",
              "      <td>1</td>\n",
              "    </tr>\n",
              "    <tr>\n",
              "      <th>1</th>\n",
              "      <td>ESPORTSTMNT03/1632500</td>\n",
              "      <td>Nongshim RedForce</td>\n",
              "      <td>oe:player:6fbf57b984dbf130701e09ea4110bb8</td>\n",
              "      <td>Rich</td>\n",
              "      <td>Gragas</td>\n",
              "      <td>8</td>\n",
              "      <td>0.375</td>\n",
              "      <td>2.000000</td>\n",
              "      <td>12968</td>\n",
              "      <td>9201</td>\n",
              "      <td>0</td>\n",
              "      <td>0</td>\n",
              "      <td>3183</td>\n",
              "      <td>oe:player:dda4a873265dfd06df50a0d8a294908</td>\n",
              "      <td>Peanut</td>\n",
              "      <td>Graves</td>\n",
              "      <td>8</td>\n",
              "      <td>0.5</td>\n",
              "      <td>1.333333</td>\n",
              "      <td>7175</td>\n",
              "      <td>10362</td>\n",
              "      <td>140</td>\n",
              "      <td>2</td>\n",
              "      <td>3357</td>\n",
              "      <td>oe:player:0582fabc486c42d0db3bf52f56c6fc3</td>\n",
              "      <td>Bay</td>\n",
              "      <td>Rumble</td>\n",
              "      <td>1</td>\n",
              "      <td>0.000000</td>\n",
              "      <td>1.00</td>\n",
              "      <td>7880</td>\n",
              "      <td>10058</td>\n",
              "      <td>0</td>\n",
              "      <td>0</td>\n",
              "      <td>3338</td>\n",
              "      <td>oe:player:18bdb3898e7fecb3bb0be7ff075d509</td>\n",
              "      <td>deokdam</td>\n",
              "      <td>Kai'Sa</td>\n",
              "      <td>6</td>\n",
              "      <td>0.333333</td>\n",
              "      <td>...</td>\n",
              "      <td>24597</td>\n",
              "      <td>14009</td>\n",
              "      <td>24</td>\n",
              "      <td>0</td>\n",
              "      <td>3610</td>\n",
              "      <td>oe:player:78081d0b3c01f1f295d52d53744261a</td>\n",
              "      <td>Ghost</td>\n",
              "      <td>Miss Fortune</td>\n",
              "      <td>2</td>\n",
              "      <td>0.0</td>\n",
              "      <td>7.0</td>\n",
              "      <td>17202</td>\n",
              "      <td>13644</td>\n",
              "      <td>16</td>\n",
              "      <td>4</td>\n",
              "      <td>3161</td>\n",
              "      <td>oe:player:dee54127bb56d2e2540ba71cc416f1c</td>\n",
              "      <td>BeryL</td>\n",
              "      <td>Galio</td>\n",
              "      <td>5</td>\n",
              "      <td>0.200000</td>\n",
              "      <td>6.5</td>\n",
              "      <td>7644</td>\n",
              "      <td>7184</td>\n",
              "      <td>0</td>\n",
              "      <td>0</td>\n",
              "      <td>2004</td>\n",
              "      <td>18</td>\n",
              "      <td>7</td>\n",
              "      <td>Akali</td>\n",
              "      <td>Taliyah</td>\n",
              "      <td>Zoe</td>\n",
              "      <td>Leona</td>\n",
              "      <td>Sylas</td>\n",
              "      <td>Aatrox</td>\n",
              "      <td>Pantheon</td>\n",
              "      <td>Samira</td>\n",
              "      <td>Ekko</td>\n",
              "      <td>Orianna</td>\n",
              "      <td>0</td>\n",
              "    </tr>\n",
              "    <tr>\n",
              "      <th>2</th>\n",
              "      <td>ESPORTSTMNT03/1632502</td>\n",
              "      <td>Nongshim RedForce</td>\n",
              "      <td>oe:player:6fbf57b984dbf130701e09ea4110bb8</td>\n",
              "      <td>Rich</td>\n",
              "      <td>Gragas</td>\n",
              "      <td>8</td>\n",
              "      <td>0.375</td>\n",
              "      <td>2.000000</td>\n",
              "      <td>10139</td>\n",
              "      <td>8821</td>\n",
              "      <td>1</td>\n",
              "      <td>0</td>\n",
              "      <td>3110</td>\n",
              "      <td>oe:player:dda4a873265dfd06df50a0d8a294908</td>\n",
              "      <td>Peanut</td>\n",
              "      <td>Graves</td>\n",
              "      <td>8</td>\n",
              "      <td>0.5</td>\n",
              "      <td>1.250000</td>\n",
              "      <td>10554</td>\n",
              "      <td>10125</td>\n",
              "      <td>87</td>\n",
              "      <td>1</td>\n",
              "      <td>3330</td>\n",
              "      <td>oe:player:0582fabc486c42d0db3bf52f56c6fc3</td>\n",
              "      <td>Bay</td>\n",
              "      <td>Zoe</td>\n",
              "      <td>3</td>\n",
              "      <td>0.333333</td>\n",
              "      <td>0.75</td>\n",
              "      <td>8790</td>\n",
              "      <td>8353</td>\n",
              "      <td>8</td>\n",
              "      <td>0</td>\n",
              "      <td>2971</td>\n",
              "      <td>oe:player:18bdb3898e7fecb3bb0be7ff075d509</td>\n",
              "      <td>deokdam</td>\n",
              "      <td>Yasuo</td>\n",
              "      <td>1</td>\n",
              "      <td>0.000000</td>\n",
              "      <td>...</td>\n",
              "      <td>17836</td>\n",
              "      <td>13608</td>\n",
              "      <td>10</td>\n",
              "      <td>4</td>\n",
              "      <td>3463</td>\n",
              "      <td>oe:player:78081d0b3c01f1f295d52d53744261a</td>\n",
              "      <td>Ghost</td>\n",
              "      <td>Miss Fortune</td>\n",
              "      <td>2</td>\n",
              "      <td>0.0</td>\n",
              "      <td>16.0</td>\n",
              "      <td>17250</td>\n",
              "      <td>15082</td>\n",
              "      <td>21</td>\n",
              "      <td>0</td>\n",
              "      <td>3268</td>\n",
              "      <td>oe:player:dee54127bb56d2e2540ba71cc416f1c</td>\n",
              "      <td>BeryL</td>\n",
              "      <td>Galio</td>\n",
              "      <td>5</td>\n",
              "      <td>0.200000</td>\n",
              "      <td>6.5</td>\n",
              "      <td>7947</td>\n",
              "      <td>7439</td>\n",
              "      <td>0</td>\n",
              "      <td>0</td>\n",
              "      <td>2069</td>\n",
              "      <td>20</td>\n",
              "      <td>11</td>\n",
              "      <td>Akali</td>\n",
              "      <td>Taliyah</td>\n",
              "      <td>Olaf</td>\n",
              "      <td>Leona</td>\n",
              "      <td>Renekton</td>\n",
              "      <td>Aatrox</td>\n",
              "      <td>Pantheon</td>\n",
              "      <td>Samira</td>\n",
              "      <td>Kai'Sa</td>\n",
              "      <td>Ornn</td>\n",
              "      <td>0</td>\n",
              "    </tr>\n",
              "    <tr>\n",
              "      <th>3</th>\n",
              "      <td>6909-9183</td>\n",
              "      <td>Top Esports</td>\n",
              "      <td>oe:player:0c74b7f78409a4022a2c4c5a5ca3ee1</td>\n",
              "      <td>369</td>\n",
              "      <td>Karma</td>\n",
              "      <td>1</td>\n",
              "      <td>0.000</td>\n",
              "      <td>3.000000</td>\n",
              "      <td>18444</td>\n",
              "      <td>10711</td>\n",
              "      <td>4</td>\n",
              "      <td>0</td>\n",
              "      <td>3429</td>\n",
              "      <td>oe:player:f3322656ae1facbf4763677fe2506a3</td>\n",
              "      <td>Karsa</td>\n",
              "      <td>Pantheon</td>\n",
              "      <td>2</td>\n",
              "      <td>0.0</td>\n",
              "      <td>1.000000</td>\n",
              "      <td>8585</td>\n",
              "      <td>10106</td>\n",
              "      <td>115</td>\n",
              "      <td>3</td>\n",
              "      <td>3271</td>\n",
              "      <td>oe:player:ed29043422e3c515e1cb292464b990b</td>\n",
              "      <td>knight</td>\n",
              "      <td>Syndra</td>\n",
              "      <td>6</td>\n",
              "      <td>0.500000</td>\n",
              "      <td>2.00</td>\n",
              "      <td>13105</td>\n",
              "      <td>13284</td>\n",
              "      <td>24</td>\n",
              "      <td>10</td>\n",
              "      <td>3842</td>\n",
              "      <td>oe:player:c54e1090ef1faa736b12493051c4855</td>\n",
              "      <td>JackeyLove</td>\n",
              "      <td>Samira</td>\n",
              "      <td>3</td>\n",
              "      <td>0.333333</td>\n",
              "      <td>...</td>\n",
              "      <td>17497</td>\n",
              "      <td>12602</td>\n",
              "      <td>18</td>\n",
              "      <td>0</td>\n",
              "      <td>3324</td>\n",
              "      <td>oe:player:6d664d1402cd16be08e335feacf73b0</td>\n",
              "      <td>huanfeng</td>\n",
              "      <td>Kai'Sa</td>\n",
              "      <td>9</td>\n",
              "      <td>0.0</td>\n",
              "      <td>9.0</td>\n",
              "      <td>18459</td>\n",
              "      <td>16176</td>\n",
              "      <td>41</td>\n",
              "      <td>0</td>\n",
              "      <td>3296</td>\n",
              "      <td>oe:player:90651ebea9a35ec4e018c8157492e17</td>\n",
              "      <td>ON</td>\n",
              "      <td>Galio</td>\n",
              "      <td>3</td>\n",
              "      <td>0.333333</td>\n",
              "      <td>4.0</td>\n",
              "      <td>3865</td>\n",
              "      <td>7407</td>\n",
              "      <td>0</td>\n",
              "      <td>0</td>\n",
              "      <td>2092</td>\n",
              "      <td>9</td>\n",
              "      <td>3</td>\n",
              "      <td>Olaf</td>\n",
              "      <td>Renekton</td>\n",
              "      <td>Zoe</td>\n",
              "      <td>Twisted Fate</td>\n",
              "      <td>Orianna</td>\n",
              "      <td>Graves</td>\n",
              "      <td>Ornn</td>\n",
              "      <td>Akali</td>\n",
              "      <td>Kennen</td>\n",
              "      <td>Jayce</td>\n",
              "      <td>0</td>\n",
              "    </tr>\n",
              "    <tr>\n",
              "      <th>4</th>\n",
              "      <td>6909-9184</td>\n",
              "      <td>Top Esports</td>\n",
              "      <td>oe:player:0c74b7f78409a4022a2c4c5a5ca3ee1</td>\n",
              "      <td>369</td>\n",
              "      <td>Jax</td>\n",
              "      <td>1</td>\n",
              "      <td>0.000</td>\n",
              "      <td>0.714286</td>\n",
              "      <td>12954</td>\n",
              "      <td>14213</td>\n",
              "      <td>19</td>\n",
              "      <td>5</td>\n",
              "      <td>3315</td>\n",
              "      <td>oe:player:f3322656ae1facbf4763677fe2506a3</td>\n",
              "      <td>Karsa</td>\n",
              "      <td>Hecarim</td>\n",
              "      <td>5</td>\n",
              "      <td>0.4</td>\n",
              "      <td>1.833333</td>\n",
              "      <td>14604</td>\n",
              "      <td>13537</td>\n",
              "      <td>112</td>\n",
              "      <td>1</td>\n",
              "      <td>4194</td>\n",
              "      <td>oe:player:ed29043422e3c515e1cb292464b990b</td>\n",
              "      <td>knight</td>\n",
              "      <td>Orianna</td>\n",
              "      <td>5</td>\n",
              "      <td>0.200000</td>\n",
              "      <td>3.00</td>\n",
              "      <td>30516</td>\n",
              "      <td>16077</td>\n",
              "      <td>33</td>\n",
              "      <td>1</td>\n",
              "      <td>3367</td>\n",
              "      <td>oe:player:c54e1090ef1faa736b12493051c4855</td>\n",
              "      <td>JackeyLove</td>\n",
              "      <td>Samira</td>\n",
              "      <td>3</td>\n",
              "      <td>0.333333</td>\n",
              "      <td>...</td>\n",
              "      <td>28284</td>\n",
              "      <td>15091</td>\n",
              "      <td>45</td>\n",
              "      <td>0</td>\n",
              "      <td>3152</td>\n",
              "      <td>oe:player:6d664d1402cd16be08e335feacf73b0</td>\n",
              "      <td>huanfeng</td>\n",
              "      <td>Kai'Sa</td>\n",
              "      <td>9</td>\n",
              "      <td>0.0</td>\n",
              "      <td>21.0</td>\n",
              "      <td>18137</td>\n",
              "      <td>18299</td>\n",
              "      <td>36</td>\n",
              "      <td>10</td>\n",
              "      <td>3353</td>\n",
              "      <td>oe:player:90651ebea9a35ec4e018c8157492e17</td>\n",
              "      <td>ON</td>\n",
              "      <td>Maokai</td>\n",
              "      <td>1</td>\n",
              "      <td>0.000000</td>\n",
              "      <td>2.5</td>\n",
              "      <td>11823</td>\n",
              "      <td>7797</td>\n",
              "      <td>0</td>\n",
              "      <td>0</td>\n",
              "      <td>2090</td>\n",
              "      <td>27</td>\n",
              "      <td>17</td>\n",
              "      <td>Olaf</td>\n",
              "      <td>Aatrox</td>\n",
              "      <td>Renekton</td>\n",
              "      <td>Galio</td>\n",
              "      <td>Leona</td>\n",
              "      <td>Graves</td>\n",
              "      <td>Ornn</td>\n",
              "      <td>Akali</td>\n",
              "      <td>Pantheon</td>\n",
              "      <td>Taliyah</td>\n",
              "      <td>0</td>\n",
              "    </tr>\n",
              "  </tbody>\n",
              "</table>\n",
              "<p>5 rows × 128 columns</p>\n",
              "</div>\n",
              "      <button class=\"colab-df-convert\" onclick=\"convertToInteractive('df-c12066ad-76f7-46d2-bbcb-1bd8784c46c6')\"\n",
              "              title=\"Convert this dataframe to an interactive table.\"\n",
              "              style=\"display:none;\">\n",
              "        \n",
              "  <svg xmlns=\"http://www.w3.org/2000/svg\" height=\"24px\"viewBox=\"0 0 24 24\"\n",
              "       width=\"24px\">\n",
              "    <path d=\"M0 0h24v24H0V0z\" fill=\"none\"/>\n",
              "    <path d=\"M18.56 5.44l.94 2.06.94-2.06 2.06-.94-2.06-.94-.94-2.06-.94 2.06-2.06.94zm-11 1L8.5 8.5l.94-2.06 2.06-.94-2.06-.94L8.5 2.5l-.94 2.06-2.06.94zm10 10l.94 2.06.94-2.06 2.06-.94-2.06-.94-.94-2.06-.94 2.06-2.06.94z\"/><path d=\"M17.41 7.96l-1.37-1.37c-.4-.4-.92-.59-1.43-.59-.52 0-1.04.2-1.43.59L10.3 9.45l-7.72 7.72c-.78.78-.78 2.05 0 2.83L4 21.41c.39.39.9.59 1.41.59.51 0 1.02-.2 1.41-.59l7.78-7.78 2.81-2.81c.8-.78.8-2.07 0-2.86zM5.41 20L4 18.59l7.72-7.72 1.47 1.35L5.41 20z\"/>\n",
              "  </svg>\n",
              "      </button>\n",
              "      \n",
              "  <style>\n",
              "    .colab-df-container {\n",
              "      display:flex;\n",
              "      flex-wrap:wrap;\n",
              "      gap: 12px;\n",
              "    }\n",
              "\n",
              "    .colab-df-convert {\n",
              "      background-color: #E8F0FE;\n",
              "      border: none;\n",
              "      border-radius: 50%;\n",
              "      cursor: pointer;\n",
              "      display: none;\n",
              "      fill: #1967D2;\n",
              "      height: 32px;\n",
              "      padding: 0 0 0 0;\n",
              "      width: 32px;\n",
              "    }\n",
              "\n",
              "    .colab-df-convert:hover {\n",
              "      background-color: #E2EBFA;\n",
              "      box-shadow: 0px 1px 2px rgba(60, 64, 67, 0.3), 0px 1px 3px 1px rgba(60, 64, 67, 0.15);\n",
              "      fill: #174EA6;\n",
              "    }\n",
              "\n",
              "    [theme=dark] .colab-df-convert {\n",
              "      background-color: #3B4455;\n",
              "      fill: #D2E3FC;\n",
              "    }\n",
              "\n",
              "    [theme=dark] .colab-df-convert:hover {\n",
              "      background-color: #434B5C;\n",
              "      box-shadow: 0px 1px 3px 1px rgba(0, 0, 0, 0.15);\n",
              "      filter: drop-shadow(0px 1px 2px rgba(0, 0, 0, 0.3));\n",
              "      fill: #FFFFFF;\n",
              "    }\n",
              "  </style>\n",
              "\n",
              "      <script>\n",
              "        const buttonEl =\n",
              "          document.querySelector('#df-c12066ad-76f7-46d2-bbcb-1bd8784c46c6 button.colab-df-convert');\n",
              "        buttonEl.style.display =\n",
              "          google.colab.kernel.accessAllowed ? 'block' : 'none';\n",
              "\n",
              "        async function convertToInteractive(key) {\n",
              "          const element = document.querySelector('#df-c12066ad-76f7-46d2-bbcb-1bd8784c46c6');\n",
              "          const dataTable =\n",
              "            await google.colab.kernel.invokeFunction('convertToInteractive',\n",
              "                                                     [key], {});\n",
              "          if (!dataTable) return;\n",
              "\n",
              "          const docLinkHtml = 'Like what you see? Visit the ' +\n",
              "            '<a target=\"_blank\" href=https://colab.research.google.com/notebooks/data_table.ipynb>data table notebook</a>'\n",
              "            + ' to learn more about interactive tables.';\n",
              "          element.innerHTML = '';\n",
              "          dataTable['output_type'] = 'display_data';\n",
              "          await google.colab.output.renderOutput(dataTable, element);\n",
              "          const docLink = document.createElement('div');\n",
              "          docLink.innerHTML = docLinkHtml;\n",
              "          element.appendChild(docLink);\n",
              "        }\n",
              "      </script>\n",
              "    </div>\n",
              "  </div>\n",
              "  "
            ],
            "text/plain": [
              "                  Gameid       Blue_Team_id  ... red_ban5 Results\n",
              "0  ESPORTSTMNT03/1632489            DWG KIA  ...   Maokai       1\n",
              "1  ESPORTSTMNT03/1632500  Nongshim RedForce  ...  Orianna       0\n",
              "2  ESPORTSTMNT03/1632502  Nongshim RedForce  ...     Ornn       0\n",
              "3              6909-9183        Top Esports  ...    Jayce       0\n",
              "4              6909-9184        Top Esports  ...  Taliyah       0\n",
              "\n",
              "[5 rows x 128 columns]"
            ]
          },
          "metadata": {},
          "execution_count": 3
        }
      ]
    },
    {
      "cell_type": "markdown",
      "source": [
        "**Statistical info**"
      ],
      "metadata": {
        "id": "IQNAAoGPHcJE"
      }
    },
    {
      "cell_type": "code",
      "source": [
        "df.describe()"
      ],
      "metadata": {
        "colab": {
          "base_uri": "https://localhost:8080/",
          "height": 393
        },
        "id": "6z-bZ6fkV_F8",
        "outputId": "06af7753-019e-4e64-bbc5-c8d03189dd9a"
      },
      "execution_count": null,
      "outputs": [
        {
          "output_type": "execute_result",
          "data": {
            "text/html": [
              "\n",
              "  <div id=\"df-52743435-fa06-417f-9a97-5c5fdbcd5559\">\n",
              "    <div class=\"colab-df-container\">\n",
              "      <div>\n",
              "<style scoped>\n",
              "    .dataframe tbody tr th:only-of-type {\n",
              "        vertical-align: middle;\n",
              "    }\n",
              "\n",
              "    .dataframe tbody tr th {\n",
              "        vertical-align: top;\n",
              "    }\n",
              "\n",
              "    .dataframe thead th {\n",
              "        text-align: right;\n",
              "    }\n",
              "</style>\n",
              "<table border=\"1\" class=\"dataframe\">\n",
              "  <thead>\n",
              "    <tr style=\"text-align: right;\">\n",
              "      <th></th>\n",
              "      <th>bluetop_Game_played</th>\n",
              "      <th>bluetop_champ_win_rate</th>\n",
              "      <th>bluetop_KDA</th>\n",
              "      <th>bluetop_dmg_to_cham</th>\n",
              "      <th>bluetop_goldearned</th>\n",
              "      <th>bluetop_monsterkillsownjungle</th>\n",
              "      <th>bluetop_monsterkillsenemyjungle</th>\n",
              "      <th>bluetop_goldat10</th>\n",
              "      <th>bluejng_Game_played</th>\n",
              "      <th>bluejng_champ_win_rate</th>\n",
              "      <th>bluejng_KDA</th>\n",
              "      <th>bluejng_dmg_to_cham</th>\n",
              "      <th>bluejng_goldearned</th>\n",
              "      <th>bluejng_monsterkillsownjungle</th>\n",
              "      <th>bluejng_monsterkillsenemyjungle</th>\n",
              "      <th>bluejng_goldat10</th>\n",
              "      <th>bluemid_Game_played</th>\n",
              "      <th>bluemid_champ_win_rate</th>\n",
              "      <th>bluemid_KDA</th>\n",
              "      <th>bluemid_dmg_to_cham</th>\n",
              "      <th>bluemid_goldearned</th>\n",
              "      <th>bluemid_monsterkillsownjungle</th>\n",
              "      <th>bluemid_monsterkillsenemyjungle</th>\n",
              "      <th>bluemid_goldat10</th>\n",
              "      <th>bluebot_Game_played</th>\n",
              "      <th>bluebot_champ_win_rate</th>\n",
              "      <th>bluebot_KDA</th>\n",
              "      <th>bluebot_dmg_to_cham</th>\n",
              "      <th>bluebot_goldearned</th>\n",
              "      <th>bluebot_monsterkillsownjungle</th>\n",
              "      <th>bluebot_monsterkillsenemyjungle</th>\n",
              "      <th>bluebot_goldat10</th>\n",
              "      <th>bluesup_Game_played</th>\n",
              "      <th>bluesup_champ_win_rate</th>\n",
              "      <th>bluesup_KDA</th>\n",
              "      <th>bluesup_dmg_to_cham</th>\n",
              "      <th>bluesup_goldearned</th>\n",
              "      <th>bluesup_monsterkillsownjungle</th>\n",
              "      <th>bluesup_monsterkillsenemyjungle</th>\n",
              "      <th>bluesup_goldat10</th>\n",
              "      <th>...</th>\n",
              "      <th>redtop_dmg_to_cham</th>\n",
              "      <th>redtop_goldearned</th>\n",
              "      <th>redtop_monsterkillsownjungle</th>\n",
              "      <th>redtop_monsterkillsenemyjungle</th>\n",
              "      <th>redtop_goldat10</th>\n",
              "      <th>redjng_Game_played</th>\n",
              "      <th>redjng_champ_win_rate</th>\n",
              "      <th>redjng_KDA</th>\n",
              "      <th>redjng_dmg_to_cham</th>\n",
              "      <th>redjng_goldearned</th>\n",
              "      <th>redjng_monsterkillsownjungle</th>\n",
              "      <th>redjng_monsterkillsenemyjungle</th>\n",
              "      <th>redjng_goldat10</th>\n",
              "      <th>redmid_Game_played</th>\n",
              "      <th>redmid_champ_win_rate</th>\n",
              "      <th>redmid_KDA</th>\n",
              "      <th>redmid_dmg_to_cham</th>\n",
              "      <th>redmid_goldearned</th>\n",
              "      <th>redmid_monsterkillsownjungle</th>\n",
              "      <th>redmid_monsterkillsenemyjungle</th>\n",
              "      <th>redmid_goldat10</th>\n",
              "      <th>redbot_Game_played</th>\n",
              "      <th>redbot_champ_win_rate</th>\n",
              "      <th>redbot_KDA</th>\n",
              "      <th>redbot_dmg_to_cham</th>\n",
              "      <th>redbot_goldearned</th>\n",
              "      <th>redbot_monsterkillsownjungle</th>\n",
              "      <th>redbot_monsterkillsenemyjungle</th>\n",
              "      <th>redbot_goldat10</th>\n",
              "      <th>redsup_Game_played</th>\n",
              "      <th>redsup_champ_win_rate</th>\n",
              "      <th>redsup_KDA</th>\n",
              "      <th>redsup_dmg_to_cham</th>\n",
              "      <th>redsup_goldearned</th>\n",
              "      <th>redsup_monsterkillsownjungle</th>\n",
              "      <th>redsup_monsterkillsenemyjungle</th>\n",
              "      <th>redsup_goldat10</th>\n",
              "      <th>Red_team_kills</th>\n",
              "      <th>Red_team_deaths</th>\n",
              "      <th>Results</th>\n",
              "    </tr>\n",
              "  </thead>\n",
              "  <tbody>\n",
              "    <tr>\n",
              "      <th>count</th>\n",
              "      <td>7425.000000</td>\n",
              "      <td>7425.000000</td>\n",
              "      <td>7425.000000</td>\n",
              "      <td>7425.000000</td>\n",
              "      <td>7425.000000</td>\n",
              "      <td>7425.000000</td>\n",
              "      <td>7425.000000</td>\n",
              "      <td>7425.000000</td>\n",
              "      <td>7425.000000</td>\n",
              "      <td>7425.000000</td>\n",
              "      <td>7425.000000</td>\n",
              "      <td>7425.000000</td>\n",
              "      <td>7425.000000</td>\n",
              "      <td>7425.000000</td>\n",
              "      <td>7425.000000</td>\n",
              "      <td>7425.000000</td>\n",
              "      <td>7425.000000</td>\n",
              "      <td>7425.000000</td>\n",
              "      <td>7425.000000</td>\n",
              "      <td>7425.000000</td>\n",
              "      <td>7425.000000</td>\n",
              "      <td>7425.000000</td>\n",
              "      <td>7425.000000</td>\n",
              "      <td>7425.000000</td>\n",
              "      <td>7425.000000</td>\n",
              "      <td>7425.000000</td>\n",
              "      <td>7425.000000</td>\n",
              "      <td>7425.000000</td>\n",
              "      <td>7425.000000</td>\n",
              "      <td>7425.000000</td>\n",
              "      <td>7425.000000</td>\n",
              "      <td>7425.000000</td>\n",
              "      <td>7425.000000</td>\n",
              "      <td>7425.000000</td>\n",
              "      <td>7425.000000</td>\n",
              "      <td>7425.000000</td>\n",
              "      <td>7425.000000</td>\n",
              "      <td>7425.000000</td>\n",
              "      <td>7425.000000</td>\n",
              "      <td>7425.000000</td>\n",
              "      <td>...</td>\n",
              "      <td>7425.000000</td>\n",
              "      <td>7425.000000</td>\n",
              "      <td>7425.000000</td>\n",
              "      <td>7425.000000</td>\n",
              "      <td>7425.000000</td>\n",
              "      <td>7425.000000</td>\n",
              "      <td>7425.000000</td>\n",
              "      <td>7425.000000</td>\n",
              "      <td>7425.000000</td>\n",
              "      <td>7425.000000</td>\n",
              "      <td>7425.000000</td>\n",
              "      <td>7425.000000</td>\n",
              "      <td>7425.000000</td>\n",
              "      <td>7425.000000</td>\n",
              "      <td>7425.000000</td>\n",
              "      <td>7425.000000</td>\n",
              "      <td>7425.000000</td>\n",
              "      <td>7425.000000</td>\n",
              "      <td>7425.000000</td>\n",
              "      <td>7425.000000</td>\n",
              "      <td>7425.000000</td>\n",
              "      <td>7425.000000</td>\n",
              "      <td>7425.000000</td>\n",
              "      <td>7425.000000</td>\n",
              "      <td>7425.000000</td>\n",
              "      <td>7425.000000</td>\n",
              "      <td>7425.000000</td>\n",
              "      <td>7425.000000</td>\n",
              "      <td>7425.000000</td>\n",
              "      <td>7425.000000</td>\n",
              "      <td>7425.000000</td>\n",
              "      <td>7425.000000</td>\n",
              "      <td>7425.00000</td>\n",
              "      <td>7425.000000</td>\n",
              "      <td>7425.00000</td>\n",
              "      <td>7425.000000</td>\n",
              "      <td>7425.000000</td>\n",
              "      <td>7425.000000</td>\n",
              "      <td>7425.000000</td>\n",
              "      <td>7425.000000</td>\n",
              "    </tr>\n",
              "    <tr>\n",
              "      <th>mean</th>\n",
              "      <td>3.089428</td>\n",
              "      <td>0.533468</td>\n",
              "      <td>4.763025</td>\n",
              "      <td>13729.062761</td>\n",
              "      <td>11693.519057</td>\n",
              "      <td>4.966869</td>\n",
              "      <td>2.472189</td>\n",
              "      <td>3257.493333</td>\n",
              "      <td>3.017778</td>\n",
              "      <td>0.533468</td>\n",
              "      <td>5.915069</td>\n",
              "      <td>11156.598519</td>\n",
              "      <td>11072.228956</td>\n",
              "      <td>105.533064</td>\n",
              "      <td>12.469630</td>\n",
              "      <td>3446.048485</td>\n",
              "      <td>2.879596</td>\n",
              "      <td>0.533468</td>\n",
              "      <td>5.816370</td>\n",
              "      <td>15577.350572</td>\n",
              "      <td>12277.039731</td>\n",
              "      <td>13.434478</td>\n",
              "      <td>2.543165</td>\n",
              "      <td>3405.946801</td>\n",
              "      <td>3.767677</td>\n",
              "      <td>0.533468</td>\n",
              "      <td>6.103490</td>\n",
              "      <td>16306.386801</td>\n",
              "      <td>13310.446869</td>\n",
              "      <td>14.184377</td>\n",
              "      <td>2.810370</td>\n",
              "      <td>3384.774276</td>\n",
              "      <td>3.391919</td>\n",
              "      <td>0.533468</td>\n",
              "      <td>5.047189</td>\n",
              "      <td>5277.803502</td>\n",
              "      <td>7534.713401</td>\n",
              "      <td>0.151785</td>\n",
              "      <td>0.099529</td>\n",
              "      <td>2289.786397</td>\n",
              "      <td>...</td>\n",
              "      <td>13761.241347</td>\n",
              "      <td>11606.153401</td>\n",
              "      <td>6.142357</td>\n",
              "      <td>1.886869</td>\n",
              "      <td>3231.965118</td>\n",
              "      <td>2.905455</td>\n",
              "      <td>0.533468</td>\n",
              "      <td>5.249104</td>\n",
              "      <td>10931.066263</td>\n",
              "      <td>10814.933333</td>\n",
              "      <td>105.414007</td>\n",
              "      <td>11.483771</td>\n",
              "      <td>3399.685522</td>\n",
              "      <td>2.788283</td>\n",
              "      <td>0.533468</td>\n",
              "      <td>5.393658</td>\n",
              "      <td>15565.710707</td>\n",
              "      <td>12154.939259</td>\n",
              "      <td>12.325253</td>\n",
              "      <td>2.178855</td>\n",
              "      <td>3396.853199</td>\n",
              "      <td>3.725657</td>\n",
              "      <td>0.533468</td>\n",
              "      <td>5.515979</td>\n",
              "      <td>15978.168754</td>\n",
              "      <td>13166.980471</td>\n",
              "      <td>14.659663</td>\n",
              "      <td>2.391380</td>\n",
              "      <td>3375.902626</td>\n",
              "      <td>3.365791</td>\n",
              "      <td>0.533468</td>\n",
              "      <td>4.546415</td>\n",
              "      <td>5121.55367</td>\n",
              "      <td>7381.225455</td>\n",
              "      <td>0.14734</td>\n",
              "      <td>0.069495</td>\n",
              "      <td>2271.382492</td>\n",
              "      <td>14.096027</td>\n",
              "      <td>14.818451</td>\n",
              "      <td>0.533468</td>\n",
              "    </tr>\n",
              "    <tr>\n",
              "      <th>std</th>\n",
              "      <td>2.484885</td>\n",
              "      <td>0.374162</td>\n",
              "      <td>4.634182</td>\n",
              "      <td>5847.416072</td>\n",
              "      <td>2597.568476</td>\n",
              "      <td>5.587011</td>\n",
              "      <td>4.290510</td>\n",
              "      <td>384.994971</td>\n",
              "      <td>2.255311</td>\n",
              "      <td>0.375991</td>\n",
              "      <td>5.435470</td>\n",
              "      <td>5637.211086</td>\n",
              "      <td>2249.144940</td>\n",
              "      <td>22.991982</td>\n",
              "      <td>10.299877</td>\n",
              "      <td>402.177620</td>\n",
              "      <td>2.400340</td>\n",
              "      <td>0.382534</td>\n",
              "      <td>5.228211</td>\n",
              "      <td>6874.360804</td>\n",
              "      <td>2707.815051</td>\n",
              "      <td>10.957343</td>\n",
              "      <td>4.087612</td>\n",
              "      <td>335.788984</td>\n",
              "      <td>3.150419</td>\n",
              "      <td>0.354529</td>\n",
              "      <td>5.337203</td>\n",
              "      <td>7992.684338</td>\n",
              "      <td>3197.883125</td>\n",
              "      <td>10.804846</td>\n",
              "      <td>4.403219</td>\n",
              "      <td>405.507194</td>\n",
              "      <td>2.486968</td>\n",
              "      <td>0.358613</td>\n",
              "      <td>4.990945</td>\n",
              "      <td>2800.994478</td>\n",
              "      <td>1494.203834</td>\n",
              "      <td>1.772559</td>\n",
              "      <td>0.770329</td>\n",
              "      <td>304.495699</td>\n",
              "      <td>...</td>\n",
              "      <td>6024.976479</td>\n",
              "      <td>2741.566083</td>\n",
              "      <td>7.167866</td>\n",
              "      <td>3.611952</td>\n",
              "      <td>365.641256</td>\n",
              "      <td>2.134791</td>\n",
              "      <td>0.373831</td>\n",
              "      <td>5.200328</td>\n",
              "      <td>5698.591597</td>\n",
              "      <td>2335.778769</td>\n",
              "      <td>23.424164</td>\n",
              "      <td>9.872178</td>\n",
              "      <td>382.866246</td>\n",
              "      <td>2.272077</td>\n",
              "      <td>0.385809</td>\n",
              "      <td>5.284378</td>\n",
              "      <td>7180.371824</td>\n",
              "      <td>2777.984589</td>\n",
              "      <td>10.248867</td>\n",
              "      <td>3.817646</td>\n",
              "      <td>327.428938</td>\n",
              "      <td>3.279832</td>\n",
              "      <td>0.357643</td>\n",
              "      <td>5.240951</td>\n",
              "      <td>7964.459153</td>\n",
              "      <td>3276.944589</td>\n",
              "      <td>10.919653</td>\n",
              "      <td>4.013995</td>\n",
              "      <td>402.163044</td>\n",
              "      <td>2.535803</td>\n",
              "      <td>0.359257</td>\n",
              "      <td>4.832400</td>\n",
              "      <td>2720.73966</td>\n",
              "      <td>1536.678059</td>\n",
              "      <td>1.70946</td>\n",
              "      <td>0.599944</td>\n",
              "      <td>283.948066</td>\n",
              "      <td>7.701063</td>\n",
              "      <td>7.399299</td>\n",
              "      <td>0.498912</td>\n",
              "    </tr>\n",
              "    <tr>\n",
              "      <th>min</th>\n",
              "      <td>1.000000</td>\n",
              "      <td>0.000000</td>\n",
              "      <td>0.000000</td>\n",
              "      <td>1323.000000</td>\n",
              "      <td>4795.000000</td>\n",
              "      <td>0.000000</td>\n",
              "      <td>0.000000</td>\n",
              "      <td>2031.000000</td>\n",
              "      <td>1.000000</td>\n",
              "      <td>0.000000</td>\n",
              "      <td>0.000000</td>\n",
              "      <td>873.000000</td>\n",
              "      <td>4398.000000</td>\n",
              "      <td>0.000000</td>\n",
              "      <td>0.000000</td>\n",
              "      <td>2216.000000</td>\n",
              "      <td>1.000000</td>\n",
              "      <td>0.000000</td>\n",
              "      <td>0.000000</td>\n",
              "      <td>1283.000000</td>\n",
              "      <td>4655.000000</td>\n",
              "      <td>0.000000</td>\n",
              "      <td>0.000000</td>\n",
              "      <td>2269.000000</td>\n",
              "      <td>1.000000</td>\n",
              "      <td>0.000000</td>\n",
              "      <td>0.000000</td>\n",
              "      <td>1580.000000</td>\n",
              "      <td>4399.000000</td>\n",
              "      <td>0.000000</td>\n",
              "      <td>0.000000</td>\n",
              "      <td>2087.000000</td>\n",
              "      <td>1.000000</td>\n",
              "      <td>0.000000</td>\n",
              "      <td>0.000000</td>\n",
              "      <td>426.000000</td>\n",
              "      <td>3068.000000</td>\n",
              "      <td>0.000000</td>\n",
              "      <td>0.000000</td>\n",
              "      <td>1738.000000</td>\n",
              "      <td>...</td>\n",
              "      <td>1508.000000</td>\n",
              "      <td>3809.000000</td>\n",
              "      <td>0.000000</td>\n",
              "      <td>0.000000</td>\n",
              "      <td>2080.000000</td>\n",
              "      <td>1.000000</td>\n",
              "      <td>0.000000</td>\n",
              "      <td>0.000000</td>\n",
              "      <td>455.000000</td>\n",
              "      <td>4280.000000</td>\n",
              "      <td>0.000000</td>\n",
              "      <td>0.000000</td>\n",
              "      <td>2133.000000</td>\n",
              "      <td>1.000000</td>\n",
              "      <td>0.000000</td>\n",
              "      <td>0.000000</td>\n",
              "      <td>1384.000000</td>\n",
              "      <td>4042.000000</td>\n",
              "      <td>0.000000</td>\n",
              "      <td>0.000000</td>\n",
              "      <td>2163.000000</td>\n",
              "      <td>1.000000</td>\n",
              "      <td>0.000000</td>\n",
              "      <td>0.000000</td>\n",
              "      <td>1119.000000</td>\n",
              "      <td>4247.000000</td>\n",
              "      <td>0.000000</td>\n",
              "      <td>0.000000</td>\n",
              "      <td>1981.000000</td>\n",
              "      <td>1.000000</td>\n",
              "      <td>0.000000</td>\n",
              "      <td>0.000000</td>\n",
              "      <td>357.00000</td>\n",
              "      <td>2917.000000</td>\n",
              "      <td>0.00000</td>\n",
              "      <td>0.000000</td>\n",
              "      <td>1757.000000</td>\n",
              "      <td>0.000000</td>\n",
              "      <td>0.000000</td>\n",
              "      <td>0.000000</td>\n",
              "    </tr>\n",
              "    <tr>\n",
              "      <th>25%</th>\n",
              "      <td>1.000000</td>\n",
              "      <td>0.200000</td>\n",
              "      <td>1.250000</td>\n",
              "      <td>9577.000000</td>\n",
              "      <td>9808.000000</td>\n",
              "      <td>1.000000</td>\n",
              "      <td>0.000000</td>\n",
              "      <td>3006.000000</td>\n",
              "      <td>1.000000</td>\n",
              "      <td>0.200000</td>\n",
              "      <td>1.500000</td>\n",
              "      <td>7047.000000</td>\n",
              "      <td>9526.000000</td>\n",
              "      <td>90.000000</td>\n",
              "      <td>4.000000</td>\n",
              "      <td>3166.000000</td>\n",
              "      <td>1.000000</td>\n",
              "      <td>0.000000</td>\n",
              "      <td>1.600000</td>\n",
              "      <td>10719.000000</td>\n",
              "      <td>10367.000000</td>\n",
              "      <td>4.000000</td>\n",
              "      <td>0.000000</td>\n",
              "      <td>3189.000000</td>\n",
              "      <td>1.000000</td>\n",
              "      <td>0.250000</td>\n",
              "      <td>1.666667</td>\n",
              "      <td>10803.000000</td>\n",
              "      <td>11094.000000</td>\n",
              "      <td>6.000000</td>\n",
              "      <td>0.000000</td>\n",
              "      <td>3140.000000</td>\n",
              "      <td>1.000000</td>\n",
              "      <td>0.250000</td>\n",
              "      <td>1.333333</td>\n",
              "      <td>3493.000000</td>\n",
              "      <td>6522.000000</td>\n",
              "      <td>0.000000</td>\n",
              "      <td>0.000000</td>\n",
              "      <td>2087.000000</td>\n",
              "      <td>...</td>\n",
              "      <td>9518.000000</td>\n",
              "      <td>9660.000000</td>\n",
              "      <td>0.000000</td>\n",
              "      <td>0.000000</td>\n",
              "      <td>2994.000000</td>\n",
              "      <td>1.000000</td>\n",
              "      <td>0.250000</td>\n",
              "      <td>1.333333</td>\n",
              "      <td>6909.000000</td>\n",
              "      <td>9141.000000</td>\n",
              "      <td>90.000000</td>\n",
              "      <td>4.000000</td>\n",
              "      <td>3131.000000</td>\n",
              "      <td>1.000000</td>\n",
              "      <td>0.200000</td>\n",
              "      <td>1.333333</td>\n",
              "      <td>10429.000000</td>\n",
              "      <td>10192.000000</td>\n",
              "      <td>4.000000</td>\n",
              "      <td>0.000000</td>\n",
              "      <td>3182.000000</td>\n",
              "      <td>2.000000</td>\n",
              "      <td>0.285714</td>\n",
              "      <td>1.400000</td>\n",
              "      <td>10321.000000</td>\n",
              "      <td>10809.000000</td>\n",
              "      <td>7.000000</td>\n",
              "      <td>0.000000</td>\n",
              "      <td>3135.000000</td>\n",
              "      <td>1.000000</td>\n",
              "      <td>0.250000</td>\n",
              "      <td>1.142857</td>\n",
              "      <td>3414.00000</td>\n",
              "      <td>6287.000000</td>\n",
              "      <td>0.00000</td>\n",
              "      <td>0.000000</td>\n",
              "      <td>2084.000000</td>\n",
              "      <td>8.000000</td>\n",
              "      <td>9.000000</td>\n",
              "      <td>0.000000</td>\n",
              "    </tr>\n",
              "    <tr>\n",
              "      <th>50%</th>\n",
              "      <td>2.000000</td>\n",
              "      <td>0.500000</td>\n",
              "      <td>3.000000</td>\n",
              "      <td>12774.000000</td>\n",
              "      <td>11558.000000</td>\n",
              "      <td>4.000000</td>\n",
              "      <td>0.000000</td>\n",
              "      <td>3208.000000</td>\n",
              "      <td>2.000000</td>\n",
              "      <td>0.500000</td>\n",
              "      <td>4.000000</td>\n",
              "      <td>10103.000000</td>\n",
              "      <td>10965.000000</td>\n",
              "      <td>105.000000</td>\n",
              "      <td>11.000000</td>\n",
              "      <td>3387.000000</td>\n",
              "      <td>2.000000</td>\n",
              "      <td>0.500000</td>\n",
              "      <td>4.000000</td>\n",
              "      <td>14522.000000</td>\n",
              "      <td>12101.000000</td>\n",
              "      <td>12.000000</td>\n",
              "      <td>0.000000</td>\n",
              "      <td>3362.000000</td>\n",
              "      <td>3.000000</td>\n",
              "      <td>0.500000</td>\n",
              "      <td>4.200000</td>\n",
              "      <td>14731.000000</td>\n",
              "      <td>13066.000000</td>\n",
              "      <td>12.000000</td>\n",
              "      <td>0.000000</td>\n",
              "      <td>3334.000000</td>\n",
              "      <td>3.000000</td>\n",
              "      <td>0.500000</td>\n",
              "      <td>3.000000</td>\n",
              "      <td>4722.000000</td>\n",
              "      <td>7427.000000</td>\n",
              "      <td>0.000000</td>\n",
              "      <td>0.000000</td>\n",
              "      <td>2199.000000</td>\n",
              "      <td>...</td>\n",
              "      <td>12802.000000</td>\n",
              "      <td>11438.000000</td>\n",
              "      <td>4.000000</td>\n",
              "      <td>0.000000</td>\n",
              "      <td>3190.000000</td>\n",
              "      <td>2.000000</td>\n",
              "      <td>0.500000</td>\n",
              "      <td>3.000000</td>\n",
              "      <td>9859.000000</td>\n",
              "      <td>10724.000000</td>\n",
              "      <td>104.000000</td>\n",
              "      <td>9.000000</td>\n",
              "      <td>3349.000000</td>\n",
              "      <td>2.000000</td>\n",
              "      <td>0.500000</td>\n",
              "      <td>3.142857</td>\n",
              "      <td>14414.000000</td>\n",
              "      <td>12001.000000</td>\n",
              "      <td>11.000000</td>\n",
              "      <td>0.000000</td>\n",
              "      <td>3359.000000</td>\n",
              "      <td>3.000000</td>\n",
              "      <td>0.500000</td>\n",
              "      <td>3.500000</td>\n",
              "      <td>14546.000000</td>\n",
              "      <td>13040.000000</td>\n",
              "      <td>12.000000</td>\n",
              "      <td>0.000000</td>\n",
              "      <td>3324.000000</td>\n",
              "      <td>3.000000</td>\n",
              "      <td>0.500000</td>\n",
              "      <td>2.571429</td>\n",
              "      <td>4594.00000</td>\n",
              "      <td>7290.000000</td>\n",
              "      <td>0.00000</td>\n",
              "      <td>0.000000</td>\n",
              "      <td>2190.000000</td>\n",
              "      <td>14.000000</td>\n",
              "      <td>15.000000</td>\n",
              "      <td>1.000000</td>\n",
              "    </tr>\n",
              "    <tr>\n",
              "      <th>75%</th>\n",
              "      <td>4.000000</td>\n",
              "      <td>1.000000</td>\n",
              "      <td>7.000000</td>\n",
              "      <td>16927.000000</td>\n",
              "      <td>13341.000000</td>\n",
              "      <td>8.000000</td>\n",
              "      <td>4.000000</td>\n",
              "      <td>3460.000000</td>\n",
              "      <td>4.000000</td>\n",
              "      <td>1.000000</td>\n",
              "      <td>9.000000</td>\n",
              "      <td>14019.000000</td>\n",
              "      <td>12497.000000</td>\n",
              "      <td>121.000000</td>\n",
              "      <td>18.000000</td>\n",
              "      <td>3672.000000</td>\n",
              "      <td>4.000000</td>\n",
              "      <td>1.000000</td>\n",
              "      <td>9.000000</td>\n",
              "      <td>19175.000000</td>\n",
              "      <td>13922.000000</td>\n",
              "      <td>20.000000</td>\n",
              "      <td>4.000000</td>\n",
              "      <td>3577.000000</td>\n",
              "      <td>5.000000</td>\n",
              "      <td>0.818182</td>\n",
              "      <td>10.000000</td>\n",
              "      <td>20086.000000</td>\n",
              "      <td>15275.000000</td>\n",
              "      <td>20.000000</td>\n",
              "      <td>4.000000</td>\n",
              "      <td>3593.000000</td>\n",
              "      <td>4.000000</td>\n",
              "      <td>0.833333</td>\n",
              "      <td>7.000000</td>\n",
              "      <td>6357.000000</td>\n",
              "      <td>8425.000000</td>\n",
              "      <td>0.000000</td>\n",
              "      <td>0.000000</td>\n",
              "      <td>2402.000000</td>\n",
              "      <td>...</td>\n",
              "      <td>16956.000000</td>\n",
              "      <td>13332.000000</td>\n",
              "      <td>9.000000</td>\n",
              "      <td>3.000000</td>\n",
              "      <td>3428.000000</td>\n",
              "      <td>4.000000</td>\n",
              "      <td>1.000000</td>\n",
              "      <td>8.000000</td>\n",
              "      <td>13789.000000</td>\n",
              "      <td>12269.000000</td>\n",
              "      <td>120.000000</td>\n",
              "      <td>17.000000</td>\n",
              "      <td>3616.000000</td>\n",
              "      <td>3.000000</td>\n",
              "      <td>1.000000</td>\n",
              "      <td>8.000000</td>\n",
              "      <td>19204.000000</td>\n",
              "      <td>13895.000000</td>\n",
              "      <td>17.000000</td>\n",
              "      <td>4.000000</td>\n",
              "      <td>3569.000000</td>\n",
              "      <td>5.000000</td>\n",
              "      <td>1.000000</td>\n",
              "      <td>8.500000</td>\n",
              "      <td>19927.000000</td>\n",
              "      <td>15299.000000</td>\n",
              "      <td>20.000000</td>\n",
              "      <td>4.000000</td>\n",
              "      <td>3583.000000</td>\n",
              "      <td>5.000000</td>\n",
              "      <td>1.000000</td>\n",
              "      <td>6.000000</td>\n",
              "      <td>6192.00000</td>\n",
              "      <td>8316.000000</td>\n",
              "      <td>0.00000</td>\n",
              "      <td>0.000000</td>\n",
              "      <td>2386.000000</td>\n",
              "      <td>20.000000</td>\n",
              "      <td>20.000000</td>\n",
              "      <td>1.000000</td>\n",
              "    </tr>\n",
              "    <tr>\n",
              "      <th>max</th>\n",
              "      <td>17.000000</td>\n",
              "      <td>1.000000</td>\n",
              "      <td>27.000000</td>\n",
              "      <td>56514.000000</td>\n",
              "      <td>24050.000000</td>\n",
              "      <td>69.000000</td>\n",
              "      <td>37.000000</td>\n",
              "      <td>5545.000000</td>\n",
              "      <td>15.000000</td>\n",
              "      <td>1.000000</td>\n",
              "      <td>33.000000</td>\n",
              "      <td>55857.000000</td>\n",
              "      <td>21639.000000</td>\n",
              "      <td>206.000000</td>\n",
              "      <td>86.000000</td>\n",
              "      <td>5943.000000</td>\n",
              "      <td>18.000000</td>\n",
              "      <td>1.000000</td>\n",
              "      <td>28.000000</td>\n",
              "      <td>61431.000000</td>\n",
              "      <td>26521.000000</td>\n",
              "      <td>109.000000</td>\n",
              "      <td>35.000000</td>\n",
              "      <td>5485.000000</td>\n",
              "      <td>20.000000</td>\n",
              "      <td>1.000000</td>\n",
              "      <td>31.000000</td>\n",
              "      <td>72320.000000</td>\n",
              "      <td>28269.000000</td>\n",
              "      <td>75.000000</td>\n",
              "      <td>38.000000</td>\n",
              "      <td>6093.000000</td>\n",
              "      <td>13.000000</td>\n",
              "      <td>1.000000</td>\n",
              "      <td>31.000000</td>\n",
              "      <td>38756.000000</td>\n",
              "      <td>16835.000000</td>\n",
              "      <td>108.000000</td>\n",
              "      <td>33.000000</td>\n",
              "      <td>4997.000000</td>\n",
              "      <td>...</td>\n",
              "      <td>55816.000000</td>\n",
              "      <td>25889.000000</td>\n",
              "      <td>109.000000</td>\n",
              "      <td>41.000000</td>\n",
              "      <td>5517.000000</td>\n",
              "      <td>16.000000</td>\n",
              "      <td>1.000000</td>\n",
              "      <td>31.000000</td>\n",
              "      <td>54492.000000</td>\n",
              "      <td>24525.000000</td>\n",
              "      <td>232.000000</td>\n",
              "      <td>72.000000</td>\n",
              "      <td>5370.000000</td>\n",
              "      <td>15.000000</td>\n",
              "      <td>1.000000</td>\n",
              "      <td>29.000000</td>\n",
              "      <td>66448.000000</td>\n",
              "      <td>25199.000000</td>\n",
              "      <td>148.000000</td>\n",
              "      <td>37.000000</td>\n",
              "      <td>5408.000000</td>\n",
              "      <td>21.000000</td>\n",
              "      <td>1.000000</td>\n",
              "      <td>26.000000</td>\n",
              "      <td>66721.000000</td>\n",
              "      <td>28073.000000</td>\n",
              "      <td>97.000000</td>\n",
              "      <td>38.000000</td>\n",
              "      <td>6545.000000</td>\n",
              "      <td>14.000000</td>\n",
              "      <td>1.000000</td>\n",
              "      <td>28.000000</td>\n",
              "      <td>41961.00000</td>\n",
              "      <td>16515.000000</td>\n",
              "      <td>79.00000</td>\n",
              "      <td>24.000000</td>\n",
              "      <td>4307.000000</td>\n",
              "      <td>50.000000</td>\n",
              "      <td>50.000000</td>\n",
              "      <td>1.000000</td>\n",
              "    </tr>\n",
              "  </tbody>\n",
              "</table>\n",
              "<p>8 rows × 85 columns</p>\n",
              "</div>\n",
              "      <button class=\"colab-df-convert\" onclick=\"convertToInteractive('df-52743435-fa06-417f-9a97-5c5fdbcd5559')\"\n",
              "              title=\"Convert this dataframe to an interactive table.\"\n",
              "              style=\"display:none;\">\n",
              "        \n",
              "  <svg xmlns=\"http://www.w3.org/2000/svg\" height=\"24px\"viewBox=\"0 0 24 24\"\n",
              "       width=\"24px\">\n",
              "    <path d=\"M0 0h24v24H0V0z\" fill=\"none\"/>\n",
              "    <path d=\"M18.56 5.44l.94 2.06.94-2.06 2.06-.94-2.06-.94-.94-2.06-.94 2.06-2.06.94zm-11 1L8.5 8.5l.94-2.06 2.06-.94-2.06-.94L8.5 2.5l-.94 2.06-2.06.94zm10 10l.94 2.06.94-2.06 2.06-.94-2.06-.94-.94-2.06-.94 2.06-2.06.94z\"/><path d=\"M17.41 7.96l-1.37-1.37c-.4-.4-.92-.59-1.43-.59-.52 0-1.04.2-1.43.59L10.3 9.45l-7.72 7.72c-.78.78-.78 2.05 0 2.83L4 21.41c.39.39.9.59 1.41.59.51 0 1.02-.2 1.41-.59l7.78-7.78 2.81-2.81c.8-.78.8-2.07 0-2.86zM5.41 20L4 18.59l7.72-7.72 1.47 1.35L5.41 20z\"/>\n",
              "  </svg>\n",
              "      </button>\n",
              "      \n",
              "  <style>\n",
              "    .colab-df-container {\n",
              "      display:flex;\n",
              "      flex-wrap:wrap;\n",
              "      gap: 12px;\n",
              "    }\n",
              "\n",
              "    .colab-df-convert {\n",
              "      background-color: #E8F0FE;\n",
              "      border: none;\n",
              "      border-radius: 50%;\n",
              "      cursor: pointer;\n",
              "      display: none;\n",
              "      fill: #1967D2;\n",
              "      height: 32px;\n",
              "      padding: 0 0 0 0;\n",
              "      width: 32px;\n",
              "    }\n",
              "\n",
              "    .colab-df-convert:hover {\n",
              "      background-color: #E2EBFA;\n",
              "      box-shadow: 0px 1px 2px rgba(60, 64, 67, 0.3), 0px 1px 3px 1px rgba(60, 64, 67, 0.15);\n",
              "      fill: #174EA6;\n",
              "    }\n",
              "\n",
              "    [theme=dark] .colab-df-convert {\n",
              "      background-color: #3B4455;\n",
              "      fill: #D2E3FC;\n",
              "    }\n",
              "\n",
              "    [theme=dark] .colab-df-convert:hover {\n",
              "      background-color: #434B5C;\n",
              "      box-shadow: 0px 1px 3px 1px rgba(0, 0, 0, 0.15);\n",
              "      filter: drop-shadow(0px 1px 2px rgba(0, 0, 0, 0.3));\n",
              "      fill: #FFFFFF;\n",
              "    }\n",
              "  </style>\n",
              "\n",
              "      <script>\n",
              "        const buttonEl =\n",
              "          document.querySelector('#df-52743435-fa06-417f-9a97-5c5fdbcd5559 button.colab-df-convert');\n",
              "        buttonEl.style.display =\n",
              "          google.colab.kernel.accessAllowed ? 'block' : 'none';\n",
              "\n",
              "        async function convertToInteractive(key) {\n",
              "          const element = document.querySelector('#df-52743435-fa06-417f-9a97-5c5fdbcd5559');\n",
              "          const dataTable =\n",
              "            await google.colab.kernel.invokeFunction('convertToInteractive',\n",
              "                                                     [key], {});\n",
              "          if (!dataTable) return;\n",
              "\n",
              "          const docLinkHtml = 'Like what you see? Visit the ' +\n",
              "            '<a target=\"_blank\" href=https://colab.research.google.com/notebooks/data_table.ipynb>data table notebook</a>'\n",
              "            + ' to learn more about interactive tables.';\n",
              "          element.innerHTML = '';\n",
              "          dataTable['output_type'] = 'display_data';\n",
              "          await google.colab.output.renderOutput(dataTable, element);\n",
              "          const docLink = document.createElement('div');\n",
              "          docLink.innerHTML = docLinkHtml;\n",
              "          element.appendChild(docLink);\n",
              "        }\n",
              "      </script>\n",
              "    </div>\n",
              "  </div>\n",
              "  "
            ],
            "text/plain": [
              "       bluetop_Game_played  ...      Results\n",
              "count          7425.000000  ...  7425.000000\n",
              "mean              3.089428  ...     0.533468\n",
              "std               2.484885  ...     0.498912\n",
              "min               1.000000  ...     0.000000\n",
              "25%               1.000000  ...     0.000000\n",
              "50%               2.000000  ...     1.000000\n",
              "75%               4.000000  ...     1.000000\n",
              "max              17.000000  ...     1.000000\n",
              "\n",
              "[8 rows x 85 columns]"
            ]
          },
          "metadata": {},
          "execution_count": 4
        }
      ]
    },
    {
      "cell_type": "markdown",
      "source": [
        "**Datatype Info**"
      ],
      "metadata": {
        "id": "5yiOiZZXHQA8"
      }
    },
    {
      "cell_type": "code",
      "source": [
        "df.info()"
      ],
      "metadata": {
        "colab": {
          "base_uri": "https://localhost:8080/"
        },
        "id": "t51pfqZ0WHic",
        "outputId": "4ae92ebb-5e59-4ed0-931a-7c4fcc79116f"
      },
      "execution_count": null,
      "outputs": [
        {
          "output_type": "stream",
          "name": "stdout",
          "text": [
            "<class 'pandas.core.frame.DataFrame'>\n",
            "RangeIndex: 7425 entries, 0 to 7424\n",
            "Columns: 128 entries, Gameid to Results\n",
            "dtypes: float64(20), int64(65), object(43)\n",
            "memory usage: 7.3+ MB\n"
          ]
        }
      ]
    },
    {
      "cell_type": "markdown",
      "source": [
        "**Finding Unique values**"
      ],
      "metadata": {
        "id": "Rcc5GSDxHMRM"
      }
    },
    {
      "cell_type": "code",
      "source": [
        "df.apply(lambda x: len(x.unique()))"
      ],
      "metadata": {
        "colab": {
          "base_uri": "https://localhost:8080/"
        },
        "id": "PdHEZoG9loLs",
        "outputId": "293cff18-a1ed-4b12-d2ce-6bc15e21795d"
      },
      "execution_count": null,
      "outputs": [
        {
          "output_type": "execute_result",
          "data": {
            "text/plain": [
              "Gameid                 7425\n",
              "Blue_Team_id            465\n",
              "bluetop_playerid        583\n",
              "bluetop_player_name     581\n",
              "bluetop_champion         76\n",
              "                       ... \n",
              "red_ban2                136\n",
              "red_ban3                137\n",
              "red_ban4                145\n",
              "red_ban5                149\n",
              "Results                   2\n",
              "Length: 128, dtype: int64"
            ]
          },
          "metadata": {},
          "execution_count": 6
        }
      ]
    },
    {
      "cell_type": "markdown",
      "source": [
        "**EDA**"
      ],
      "metadata": {
        "id": "iI52B34tHHzM"
      }
    },
    {
      "cell_type": "code",
      "source": [
        "plt.figure(figsize=(12,8))\n",
        "sns.countplot(df['Results'])\n",
        "plt.xticks(rotation=90)\n",
        "plt.title(\"Count of Win and Loss for Blue team\",fontdict = { 'fontsize': 20})\n",
        "plt.show()"
      ],
      "metadata": {
        "colab": {
          "base_uri": "https://localhost:8080/",
          "height": 514
        },
        "outputId": "0a990721-e866-43c6-b000-af7e60954210",
        "id": "V8XoE23x6KJ8"
      },
      "execution_count": null,
      "outputs": [
        {
          "output_type": "display_data",
          "data": {
            "image/png": "[encoded data removed]",
            "text/plain": [
              "<Figure size 864x576 with 1 Axes>"
            ]
          },
          "metadata": {
            "needs_background": "light"
          }
        }
      ]
    },
    {
      "cell_type": "markdown",
      "source": [
        "1 represent blue team wins and 0 means it lost."
      ],
      "metadata": {
        "id": "fONA_biO6bqA"
      }
    },
    {
      "cell_type": "code",
      "source": [
        "plt.figure(figsize=(15,8))\n",
        "sns.countplot(df['bluetop_champion'])\n",
        "plt.xticks(rotation=90)\n",
        "plt.title(\"Distribution of champions picked by blueteam top position player\",fontdict = { 'fontsize': 20})\n",
        "plt.show()"
      ],
      "metadata": {
        "colab": {
          "base_uri": "https://localhost:8080/",
          "height": 570
        },
        "id": "NYZr971Sku5K",
        "outputId": "9712a624-6e5d-4da9-d494-d68e0e756bb3"
      },
      "execution_count": null,
      "outputs": [
        {
          "output_type": "display_data",
          "data": {
            "image/png": "[encoded data removed]",
            "text/plain": [
              "<Figure size 1080x576 with 1 Axes>"
            ]
          },
          "metadata": {
            "needs_background": "light"
          }
        }
      ]
    },
    {
      "cell_type": "markdown",
      "source": [
        "Plot shows the distribution of champions picked by blue team top position players.\\\n",
        "We can see \"Gnar\" and \"Renekton\" are two most picked champions."
      ],
      "metadata": {
        "id": "ymc5CEjS3dI6"
      }
    },
    {
      "cell_type": "code",
      "source": [
        "plt.figure(figsize=(15,8))\n",
        "sns.countplot(df['bluetop_Game_played'])\n",
        "plt.title(\"Distribution of Game played by blueteam top position player\",fontdict = { 'fontsize': 20})\n",
        "plt.show()"
      ],
      "metadata": {
        "colab": {
          "base_uri": "https://localhost:8080/",
          "height": 518
        },
        "id": "q3vAWlqAku3G",
        "outputId": "45852631-7caa-4bd5-a1dc-d8b10f00333f"
      },
      "execution_count": null,
      "outputs": [
        {
          "output_type": "display_data",
          "data": {
            "image/png": "[encoded data removed]",
            "text/plain": [
              "<Figure size 1080x576 with 1 Axes>"
            ]
          },
          "metadata": {
            "needs_background": "light"
          }
        }
      ]
    },
    {
      "cell_type": "markdown",
      "source": [
        "We can see from above plot,most of the players have played only one or two games in blueteam at top position.\\\n",
        "It is also because this player may have appeared on other positions and also in other teams as well."
      ],
      "metadata": {
        "id": "rCG7DXtS4_0Q"
      }
    },
    {
      "cell_type": "code",
      "source": [
        "plt.figure(figsize=(15,8))\n",
        "sns.countplot(df['bluetop_champ_win_rate'])\n",
        "plt.xticks(rotation=45)\n",
        "plt.title(\"Distribution of Win rates of champions picked  by blueteam top position player\",fontdict = { 'fontsize': 20})\n",
        "plt.show()"
      ],
      "metadata": {
        "colab": {
          "base_uri": "https://localhost:8080/",
          "height": 563
        },
        "id": "3V5n3MErkuy3",
        "outputId": "e528a7ab-0d8c-4066-af40-0f6171588eab"
      },
      "execution_count": null,
      "outputs": [
        {
          "output_type": "display_data",
          "data": {
            "image/png": "[encoded data removed]",
            "text/plain": [
              "<Figure size 1080x576 with 1 Axes>"
            ]
          },
          "metadata": {
            "needs_background": "light"
          }
        }
      ]
    },
    {
      "cell_type": "markdown",
      "source": [
        "Plot indicates that most of the players are having winrate in the dataset either 0 or 1."
      ],
      "metadata": {
        "id": "gLESyRj85yxg"
      }
    },
    {
      "cell_type": "code",
      "source": [
        "plt.figure(figsize=(15,8))\n",
        "plt.hist(df['bluetop_KDA'])\n",
        "plt.title(\"Distribution of KDA of champions picked  by blueteam top position player\",fontdict = { 'fontsize': 20})\n",
        "plt.show()"
      ],
      "metadata": {
        "colab": {
          "base_uri": "https://localhost:8080/",
          "height": 504
        },
        "id": "LVfgVhptrCKe",
        "outputId": "a1dfa721-cb63-4ecd-a4d1-3ecb7202bb12"
      },
      "execution_count": null,
      "outputs": [
        {
          "output_type": "display_data",
          "data": {
            "image/png": "[encoded data removed]",
            "text/plain": [
              "<Figure size 1080x576 with 1 Axes>"
            ]
          },
          "metadata": {
            "needs_background": "light"
          }
        }
      ]
    },
    {
      "cell_type": "markdown",
      "source": [
        "Plot shows that KDA ratio is mostly lying in between 0-5.Its a Kill-Assist to death ratio.Higher it is better it is.\n",
        "\n",
        "\n"
      ],
      "metadata": {
        "id": "_J0mLH6BC2un"
      }
    },
    {
      "cell_type": "code",
      "source": [
        "sns.countplot(df['bluejng_champion'])\n",
        "plt.show()"
      ],
      "metadata": {
        "colab": {
          "base_uri": "https://localhost:8080/",
          "height": 280
        },
        "id": "b6mWEk6NkuwD",
        "outputId": "62baadae-a22e-4892-b54a-405f9f4caa66"
      },
      "execution_count": null,
      "outputs": [
        {
          "output_type": "display_data",
          "data": {
            "image/png": "[encoded data removed]",
            "text/plain": [
              "<Figure size 432x288 with 1 Axes>"
            ]
          },
          "metadata": {
            "needs_background": "light"
          }
        }
      ]
    },
    {
      "cell_type": "code",
      "source": [
        "sns.countplot(df['bluejng_Game_played'])\n",
        "plt.show()"
      ],
      "metadata": {
        "colab": {
          "base_uri": "https://localhost:8080/",
          "height": 280
        },
        "id": "vT0Ss7RpkutL",
        "outputId": "9b349efe-80c5-4653-a436-ac6836317474"
      },
      "execution_count": null,
      "outputs": [
        {
          "output_type": "display_data",
          "data": {
            "image/png": "[encoded data removed]",
            "text/plain": [
              "<Figure size 432x288 with 1 Axes>"
            ]
          },
          "metadata": {
            "needs_background": "light"
          }
        }
      ]
    },
    {
      "cell_type": "code",
      "source": [
        "sns.countplot(df['bluejng_champ_win_rate'])\n",
        "plt.xticks(rotation=45)\n",
        "plt.show()"
      ],
      "metadata": {
        "colab": {
          "base_uri": "https://localhost:8080/",
          "height": 280
        },
        "id": "aMMYQ3sCkunf",
        "outputId": "57c4ca1d-c008-4055-b542-0fb6f014ac7c"
      },
      "execution_count": null,
      "outputs": [
        {
          "output_type": "display_data",
          "data": {
            "image/png": "[encoded data removed]",
            "text/plain": [
              "<Figure size 432x288 with 1 Axes>"
            ]
          },
          "metadata": {
            "needs_background": "light"
          }
        }
      ]
    },
    {
      "cell_type": "code",
      "source": [
        "df.hist(column=['bluejng_KDA'],bins=30)\n",
        "plt.show()"
      ],
      "metadata": {
        "colab": {
          "base_uri": "https://localhost:8080/",
          "height": 281
        },
        "id": "Mas329zzkugJ",
        "outputId": "bd2199af-32dd-45e3-aa27-a4f986b2c894"
      },
      "execution_count": null,
      "outputs": [
        {
          "output_type": "display_data",
          "data": {
            "image/png": "[encoded data removed]",
            "text/plain": [
              "<Figure size 432x288 with 1 Axes>"
            ]
          },
          "metadata": {
            "needs_background": "light"
          }
        }
      ]
    },
    {
      "cell_type": "code",
      "source": [
        "sns.countplot(df['bluemid_champion'])\n",
        "plt.show()\n"
      ],
      "metadata": {
        "colab": {
          "base_uri": "https://localhost:8080/",
          "height": 280
        },
        "id": "H-7OAemLo2ph",
        "outputId": "6cbb2a0c-a224-4ed2-c575-07daf7116ec3"
      },
      "execution_count": null,
      "outputs": [
        {
          "output_type": "display_data",
          "data": {
            "image/png": "[encoded data removed]",
            "text/plain": [
              "<Figure size 432x288 with 1 Axes>"
            ]
          },
          "metadata": {
            "needs_background": "light"
          }
        }
      ]
    },
    {
      "cell_type": "code",
      "source": [
        "sns.countplot(df['bluemid_Game_played'])\n",
        "plt.show()"
      ],
      "metadata": {
        "colab": {
          "base_uri": "https://localhost:8080/",
          "height": 280
        },
        "id": "fiAnZBw0o2lH",
        "outputId": "e3472be3-6128-4b90-bac6-9c583e39fff8"
      },
      "execution_count": null,
      "outputs": [
        {
          "output_type": "display_data",
          "data": {
            "image/png": "[encoded data removed]",
            "text/plain": [
              "<Figure size 432x288 with 1 Axes>"
            ]
          },
          "metadata": {
            "needs_background": "light"
          }
        }
      ]
    },
    {
      "cell_type": "code",
      "source": [
        "sns.countplot(df['bluemid_champ_win_rate'])\n",
        "plt.show()"
      ],
      "metadata": {
        "colab": {
          "base_uri": "https://localhost:8080/",
          "height": 280
        },
        "id": "M2FnG9jTo2ih",
        "outputId": "6d4e0977-2bc7-4002-9ee7-c18849c41447"
      },
      "execution_count": null,
      "outputs": [
        {
          "output_type": "display_data",
          "data": {
            "image/png": "[encoded data removed]",
            "text/plain": [
              "<Figure size 432x288 with 1 Axes>"
            ]
          },
          "metadata": {
            "needs_background": "light"
          }
        }
      ]
    },
    {
      "cell_type": "code",
      "source": [
        "df.hist(column=['bluemid_KDA'],bins=30)\n",
        "plt.show()"
      ],
      "metadata": {
        "colab": {
          "base_uri": "https://localhost:8080/",
          "height": 281
        },
        "id": "4F7pO-gSo2dm",
        "outputId": "6789136e-5dc0-4900-d11e-fd7d229eef42"
      },
      "execution_count": null,
      "outputs": [
        {
          "output_type": "display_data",
          "data": {
            "image/png": "[encoded data removed]",
            "text/plain": [
              "<Figure size 432x288 with 1 Axes>"
            ]
          },
          "metadata": {
            "needs_background": "light"
          }
        }
      ]
    },
    {
      "cell_type": "code",
      "source": [
        "sns.countplot(df['bluebot_champion'])\n",
        "plt.show()"
      ],
      "metadata": {
        "colab": {
          "base_uri": "https://localhost:8080/",
          "height": 280
        },
        "id": "Z8XWJIZZo2be",
        "outputId": "c16e80c4-bdd5-437c-c596-e7ccf132a66d"
      },
      "execution_count": null,
      "outputs": [
        {
          "output_type": "display_data",
          "data": {
            "image/png": "[encoded data removed]",
            "text/plain": [
              "<Figure size 432x288 with 1 Axes>"
            ]
          },
          "metadata": {
            "needs_background": "light"
          }
        }
      ]
    },
    {
      "cell_type": "code",
      "source": [
        "sns.countplot(df['bluebot_Game_played'])\n",
        "plt.show()\n"
      ],
      "metadata": {
        "colab": {
          "base_uri": "https://localhost:8080/",
          "height": 280
        },
        "id": "CwJ7Ibfyo2Yv",
        "outputId": "3dbbd52a-005d-4c10-c81e-921737973d3a"
      },
      "execution_count": null,
      "outputs": [
        {
          "output_type": "display_data",
          "data": {
            "image/png": "[encoded data removed]",
            "text/plain": [
              "<Figure size 432x288 with 1 Axes>"
            ]
          },
          "metadata": {
            "needs_background": "light"
          }
        }
      ]
    },
    {
      "cell_type": "code",
      "source": [
        "sns.countplot(df['bluebot_champ_win_rate'])\n",
        "plt.show()"
      ],
      "metadata": {
        "colab": {
          "base_uri": "https://localhost:8080/",
          "height": 280
        },
        "id": "YxzEed5bo2WC",
        "outputId": "03868cce-7c25-47cb-af2a-fae793600a31"
      },
      "execution_count": null,
      "outputs": [
        {
          "output_type": "display_data",
          "data": {
            "image/png": "[encoded data removed]",
            "text/plain": [
              "<Figure size 432x288 with 1 Axes>"
            ]
          },
          "metadata": {
            "needs_background": "light"
          }
        }
      ]
    },
    {
      "cell_type": "code",
      "source": [
        "df.hist(column=['bluebot_KDA'],bins=30)\n",
        "plt.show()"
      ],
      "metadata": {
        "colab": {
          "base_uri": "https://localhost:8080/",
          "height": 281
        },
        "id": "PUGjL12Ao2Tv",
        "outputId": "e8f6d107-95c0-4315-e241-57f8f445614a"
      },
      "execution_count": null,
      "outputs": [
        {
          "output_type": "display_data",
          "data": {
            "image/png": "[encoded data removed]",
            "text/plain": [
              "<Figure size 432x288 with 1 Axes>"
            ]
          },
          "metadata": {
            "needs_background": "light"
          }
        }
      ]
    },
    {
      "cell_type": "code",
      "source": [
        "sns.countplot(df['bluesup_champion'])\n",
        "plt.show()"
      ],
      "metadata": {
        "colab": {
          "base_uri": "https://localhost:8080/",
          "height": 280
        },
        "id": "VHnXM124o2RU",
        "outputId": "a9022a09-f1f2-4681-d981-0bda77e30d56"
      },
      "execution_count": null,
      "outputs": [
        {
          "output_type": "display_data",
          "data": {
            "image/png": "[encoded data removed]",
            "text/plain": [
              "<Figure size 432x288 with 1 Axes>"
            ]
          },
          "metadata": {
            "needs_background": "light"
          }
        }
      ]
    },
    {
      "cell_type": "code",
      "source": [
        "sns.countplot(df['bluesup_Game_played'])\n",
        "plt.show()\n"
      ],
      "metadata": {
        "colab": {
          "base_uri": "https://localhost:8080/",
          "height": 280
        },
        "id": "l4EHA8PYo2Or",
        "outputId": "082a9109-c10d-465f-affa-777afbdb958d"
      },
      "execution_count": null,
      "outputs": [
        {
          "output_type": "display_data",
          "data": {
            "image/png": "[encoded data removed]",
            "text/plain": [
              "<Figure size 432x288 with 1 Axes>"
            ]
          },
          "metadata": {
            "needs_background": "light"
          }
        }
      ]
    },
    {
      "cell_type": "code",
      "source": [
        "sns.countplot(df['bluesup_champ_win_rate'])\n",
        "plt.show()"
      ],
      "metadata": {
        "colab": {
          "base_uri": "https://localhost:8080/",
          "height": 280
        },
        "id": "K2os-CA3o2L3",
        "outputId": "8623e6f7-5cbe-4056-b99b-ad2d7999f1d6"
      },
      "execution_count": null,
      "outputs": [
        {
          "output_type": "display_data",
          "data": {
            "image/png": "[encoded data removed]",
            "text/plain": [
              "<Figure size 432x288 with 1 Axes>"
            ]
          },
          "metadata": {
            "needs_background": "light"
          }
        }
      ]
    },
    {
      "cell_type": "code",
      "source": [
        "df.hist(column=['bluesup_KDA'],bins=30)\n",
        "plt.show()\n"
      ],
      "metadata": {
        "colab": {
          "base_uri": "https://localhost:8080/",
          "height": 281
        },
        "id": "JyP9kQQro2Jx",
        "outputId": "2d6c63bc-05c0-456e-df53-b6fb9c303942"
      },
      "execution_count": null,
      "outputs": [
        {
          "output_type": "display_data",
          "data": {
            "image/png": "[encoded data removed]",
            "text/plain": [
              "<Figure size 432x288 with 1 Axes>"
            ]
          },
          "metadata": {
            "needs_background": "light"
          }
        }
      ]
    },
    {
      "cell_type": "markdown",
      "source": [
        "**For Red Team**"
      ],
      "metadata": {
        "id": "d8v29Pvyquic"
      }
    },
    {
      "cell_type": "code",
      "source": [
        "sns.countplot(df['redtop_champion'])\n",
        "plt.show()"
      ],
      "metadata": {
        "colab": {
          "base_uri": "https://localhost:8080/",
          "height": 280
        },
        "id": "LeGSIGveo2Em",
        "outputId": "e94e98cf-1d49-4ef7-b422-b881eee7ed5d"
      },
      "execution_count": null,
      "outputs": [
        {
          "output_type": "display_data",
          "data": {
            "image/png": "[encoded data removed]",
            "text/plain": [
              "<Figure size 432x288 with 1 Axes>"
            ]
          },
          "metadata": {
            "needs_background": "light"
          }
        }
      ]
    },
    {
      "cell_type": "code",
      "source": [
        "sns.countplot(df['redtop_Game_played'])\n",
        "plt.show()"
      ],
      "metadata": {
        "colab": {
          "base_uri": "https://localhost:8080/",
          "height": 281
        },
        "id": "rQcwi2RXo2CJ",
        "outputId": "5b7d4cb5-1e61-4828-b594-18b53c315481"
      },
      "execution_count": null,
      "outputs": [
        {
          "output_type": "display_data",
          "data": {
            "image/png": "[encoded data removed]",
            "text/plain": [
              "<Figure size 432x288 with 1 Axes>"
            ]
          },
          "metadata": {
            "needs_background": "light"
          }
        }
      ]
    },
    {
      "cell_type": "code",
      "source": [
        "sns.countplot(df['redtop_champ_win_rate'])\n",
        "plt.show()"
      ],
      "metadata": {
        "colab": {
          "base_uri": "https://localhost:8080/",
          "height": 280
        },
        "id": "igpB0Di1o1_m",
        "outputId": "dec660d1-9e5b-4703-e7ac-2fcc283f40e5"
      },
      "execution_count": null,
      "outputs": [
        {
          "output_type": "display_data",
          "data": {
            "image/png": "[encoded data removed]",
            "text/plain": [
              "<Figure size 432x288 with 1 Axes>"
            ]
          },
          "metadata": {
            "needs_background": "light"
          }
        }
      ]
    },
    {
      "cell_type": "code",
      "source": [
        "df.hist(column=['redtop_KDA'],bins=30)\n",
        "plt.show()\n"
      ],
      "metadata": {
        "colab": {
          "base_uri": "https://localhost:8080/",
          "height": 281
        },
        "id": "N89SLyIho18e",
        "outputId": "40332cff-818e-4dd9-b15a-74ef49b2859c"
      },
      "execution_count": null,
      "outputs": [
        {
          "output_type": "display_data",
          "data": {
            "image/png": "[encoded data removed]",
            "text/plain": [
              "<Figure size 432x288 with 1 Axes>"
            ]
          },
          "metadata": {
            "needs_background": "light"
          }
        }
      ]
    },
    {
      "cell_type": "code",
      "source": [
        "sns.countplot(df['redjng_champion'])\n",
        "plt.show()"
      ],
      "metadata": {
        "colab": {
          "base_uri": "https://localhost:8080/",
          "height": 280
        },
        "id": "8xovxxcxo15u",
        "outputId": "e583c9a9-bb51-4d15-e4b5-78c65c237a48"
      },
      "execution_count": null,
      "outputs": [
        {
          "output_type": "display_data",
          "data": {
            "image/png": "[encoded data removed]",
            "text/plain": [
              "<Figure size 432x288 with 1 Axes>"
            ]
          },
          "metadata": {
            "needs_background": "light"
          }
        }
      ]
    },
    {
      "cell_type": "code",
      "source": [
        "sns.countplot(df['redjng_Game_played'])\n",
        "plt.show()\n"
      ],
      "metadata": {
        "colab": {
          "base_uri": "https://localhost:8080/",
          "height": 280
        },
        "id": "AiPdHPw8rqTA",
        "outputId": "04098ab0-b605-4172-9faa-a8bc1598822b"
      },
      "execution_count": null,
      "outputs": [
        {
          "output_type": "display_data",
          "data": {
            "image/png": "[encoded data removed]",
            "text/plain": [
              "<Figure size 432x288 with 1 Axes>"
            ]
          },
          "metadata": {
            "needs_background": "light"
          }
        }
      ]
    },
    {
      "cell_type": "code",
      "source": [
        "sns.countplot(df['redjng_champ_win_rate'])\n",
        "plt.show()"
      ],
      "metadata": {
        "colab": {
          "base_uri": "https://localhost:8080/",
          "height": 280
        },
        "id": "Dao-KfdirqPu",
        "outputId": "1ec347fe-f9f4-451e-876f-513b215e775f"
      },
      "execution_count": null,
      "outputs": [
        {
          "output_type": "display_data",
          "data": {
            "image/png": "[encoded data removed]",
            "text/plain": [
              "<Figure size 432x288 with 1 Axes>"
            ]
          },
          "metadata": {
            "needs_background": "light"
          }
        }
      ]
    },
    {
      "cell_type": "code",
      "source": [
        "df.hist(column=['redjng_KDA'],bins=30)\n",
        "plt.show()\n"
      ],
      "metadata": {
        "colab": {
          "base_uri": "https://localhost:8080/",
          "height": 281
        },
        "id": "rVlNEM1-rqNX",
        "outputId": "ca093c87-1c8f-4700-8ca5-48b943fe0305"
      },
      "execution_count": null,
      "outputs": [
        {
          "output_type": "display_data",
          "data": {
            "image/png": "[encoded data removed]",
            "text/plain": [
              "<Figure size 432x288 with 1 Axes>"
            ]
          },
          "metadata": {
            "needs_background": "light"
          }
        }
      ]
    },
    {
      "cell_type": "code",
      "source": [
        "sns.countplot(df['redmid_champion'])\n",
        "plt.show()"
      ],
      "metadata": {
        "colab": {
          "base_uri": "https://localhost:8080/",
          "height": 280
        },
        "id": "jDO6keJerqKz",
        "outputId": "98dc99d4-c248-4609-cbec-41267f56e75a"
      },
      "execution_count": null,
      "outputs": [
        {
          "output_type": "display_data",
          "data": {
            "image/png": "[encoded data removed]",
            "text/plain": [
              "<Figure size 432x288 with 1 Axes>"
            ]
          },
          "metadata": {
            "needs_background": "light"
          }
        }
      ]
    },
    {
      "cell_type": "code",
      "source": [
        "sns.countplot(df['redmid_Game_played'])\n",
        "plt.show()\n"
      ],
      "metadata": {
        "colab": {
          "base_uri": "https://localhost:8080/",
          "height": 280
        },
        "id": "aAj0WsYZrqIf",
        "outputId": "7accbccb-005c-430b-e2f3-a105139abbf6"
      },
      "execution_count": null,
      "outputs": [
        {
          "output_type": "display_data",
          "data": {
            "image/png": "[encoded data removed]",
            "text/plain": [
              "<Figure size 432x288 with 1 Axes>"
            ]
          },
          "metadata": {
            "needs_background": "light"
          }
        }
      ]
    },
    {
      "cell_type": "code",
      "source": [
        "sns.countplot(df['redmid_champ_win_rate'])\n",
        "plt.show()\n"
      ],
      "metadata": {
        "colab": {
          "base_uri": "https://localhost:8080/",
          "height": 281
        },
        "id": "HMhLEDYmrqFw",
        "outputId": "6d109bc8-9a04-4692-b5e6-c42802a5c032"
      },
      "execution_count": null,
      "outputs": [
        {
          "output_type": "display_data",
          "data": {
            "image/png": "[encoded data removed]",
            "text/plain": [
              "<Figure size 432x288 with 1 Axes>"
            ]
          },
          "metadata": {
            "needs_background": "light"
          }
        }
      ]
    },
    {
      "cell_type": "code",
      "source": [
        "df.hist(column=['redmid_KDA'],bins=30)\n",
        "plt.show()"
      ],
      "metadata": {
        "colab": {
          "base_uri": "https://localhost:8080/",
          "height": 281
        },
        "id": "ALrdHlvJrqDX",
        "outputId": "5636d2e3-ea0d-40ba-ee20-a6c27423fca4"
      },
      "execution_count": null,
      "outputs": [
        {
          "output_type": "display_data",
          "data": {
            "image/png": "[encoded data removed]",
            "text/plain": [
              "<Figure size 432x288 with 1 Axes>"
            ]
          },
          "metadata": {
            "needs_background": "light"
          }
        }
      ]
    },
    {
      "cell_type": "code",
      "source": [
        "sns.countplot(df['redbot_champion'])\n",
        "plt.show()\n"
      ],
      "metadata": {
        "colab": {
          "base_uri": "https://localhost:8080/",
          "height": 284
        },
        "id": "-1RjM7CPrqA5",
        "outputId": "dce16098-1261-402b-e484-ac8c72fb2cc2"
      },
      "execution_count": null,
      "outputs": [
        {
          "output_type": "display_data",
          "data": {
            "image/png": "[encoded data removed]",
            "text/plain": [
              "<Figure size 432x288 with 1 Axes>"
            ]
          },
          "metadata": {
            "needs_background": "light"
          }
        }
      ]
    },
    {
      "cell_type": "code",
      "source": [
        "sns.countplot(df['redbot_Game_played'])\n",
        "plt.show()\n"
      ],
      "metadata": {
        "colab": {
          "base_uri": "https://localhost:8080/",
          "height": 280
        },
        "id": "gWy74fmrrp-b",
        "outputId": "79658029-b217-455e-de95-87200dadf1d6"
      },
      "execution_count": null,
      "outputs": [
        {
          "output_type": "display_data",
          "data": {
            "image/png": "[encoded data removed]",
            "text/plain": [
              "<Figure size 432x288 with 1 Axes>"
            ]
          },
          "metadata": {
            "needs_background": "light"
          }
        }
      ]
    },
    {
      "cell_type": "code",
      "source": [
        "sns.countplot(df['redbot_champ_win_rate'])\n",
        "plt.show()\n"
      ],
      "metadata": {
        "colab": {
          "base_uri": "https://localhost:8080/",
          "height": 280
        },
        "id": "0vGlBOakrp7H",
        "outputId": "7d956ddd-6f22-4ff6-e96b-bd9e9668b65c"
      },
      "execution_count": null,
      "outputs": [
        {
          "output_type": "display_data",
          "data": {
            "image/png": "[encoded data removed]",
            "text/plain": [
              "<Figure size 432x288 with 1 Axes>"
            ]
          },
          "metadata": {
            "needs_background": "light"
          }
        }
      ]
    },
    {
      "cell_type": "code",
      "source": [
        "df.hist(column=['redbot_KDA'],bins=30)\n",
        "plt.show()\n"
      ],
      "metadata": {
        "colab": {
          "base_uri": "https://localhost:8080/",
          "height": 281
        },
        "id": "wQ8rvbH4rp3Z",
        "outputId": "7fe03fa1-0a26-42a0-e1b8-8d5c765f63be"
      },
      "execution_count": null,
      "outputs": [
        {
          "output_type": "display_data",
          "data": {
            "image/png": "[encoded data removed]",
            "text/plain": [
              "<Figure size 432x288 with 1 Axes>"
            ]
          },
          "metadata": {
            "needs_background": "light"
          }
        }
      ]
    },
    {
      "cell_type": "code",
      "source": [
        "sns.countplot(df['redsup_champion'])\n",
        "plt.show()"
      ],
      "metadata": {
        "colab": {
          "base_uri": "https://localhost:8080/",
          "height": 280
        },
        "id": "vjqbEMg5t3tZ",
        "outputId": "c7b4b32f-f1c4-498f-e435-66a3a6682e1b"
      },
      "execution_count": null,
      "outputs": [
        {
          "output_type": "display_data",
          "data": {
            "image/png": "[encoded data removed]",
            "text/plain": [
              "<Figure size 432x288 with 1 Axes>"
            ]
          },
          "metadata": {
            "needs_background": "light"
          }
        }
      ]
    },
    {
      "cell_type": "code",
      "source": [
        "sns.countplot(df['redsup_Game_played'])\n",
        "plt.show()"
      ],
      "metadata": {
        "colab": {
          "base_uri": "https://localhost:8080/",
          "height": 280
        },
        "id": "vQLXQlhVt3rU",
        "outputId": "55f9fce0-3ab9-4afb-c560-a8ebec627bf9"
      },
      "execution_count": null,
      "outputs": [
        {
          "output_type": "display_data",
          "data": {
            "image/png": "[encoded data removed]",
            "text/plain": [
              "<Figure size 432x288 with 1 Axes>"
            ]
          },
          "metadata": {
            "needs_background": "light"
          }
        }
      ]
    },
    {
      "cell_type": "code",
      "source": [
        "sns.countplot(df['redsup_champ_win_rate'])\n",
        "plt.show()\n"
      ],
      "metadata": {
        "colab": {
          "base_uri": "https://localhost:8080/",
          "height": 280
        },
        "id": "CBnbxjBwt3nS",
        "outputId": "72946011-dfb8-4aa4-f1f9-2c627c4173a1"
      },
      "execution_count": null,
      "outputs": [
        {
          "output_type": "display_data",
          "data": {
            "image/png": "[encoded data removed]",
            "text/plain": [
              "<Figure size 432x288 with 1 Axes>"
            ]
          },
          "metadata": {
            "needs_background": "light"
          }
        }
      ]
    },
    {
      "cell_type": "code",
      "source": [
        "df.hist(column=['redsup_KDA'],bins=30)\n",
        "plt.show()"
      ],
      "metadata": {
        "colab": {
          "base_uri": "https://localhost:8080/",
          "height": 281
        },
        "id": "Jxw0WrrJt3kM",
        "outputId": "f843743b-8330-406b-a88f-dc273697f9ba"
      },
      "execution_count": null,
      "outputs": [
        {
          "output_type": "display_data",
          "data": {
            "image/png": "[encoded data removed]",
            "text/plain": [
              "<Figure size 432x288 with 1 Axes>"
            ]
          },
          "metadata": {
            "needs_background": "light"
          }
        }
      ]
    }
  ]
}